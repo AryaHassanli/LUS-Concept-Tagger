{
 "cells": [
  {
   "cell_type": "markdown",
   "metadata": {},
   "source": [
    "# Language Understanding Systems - Mid-Term Project\n",
    "**FST & GRM Tools for SLU**\n",
    "---\n",
    "\n",
    "[University of Trento](http://unitn.it) <br>\n",
    "[Seyyed Arya Hassanli](https://www.linkedin.com/in/seyyed-arya-hassanli/) - 212168 <br>\n",
    "[seyyedarya.hassanli@studenti.unitn.it](mailto:seyyedarya.hassanli@studenti.unitn.it)\n",
    "\n"
   ]
  },
  {
   "cell_type": "markdown",
   "metadata": {},
   "source": [
    "## Project Definition\n",
    "\n",
    "This project aims to develop a concept tagger module for NL-SPARQL Dataset in Movie Domain."
   ]
  },
  {
   "cell_type": "markdown",
   "metadata": {},
   "source": [
    "## Prerequisites\n",
    "\n",
    "1. [OpenFST](http://www.openfst.org/twiki/bin/view/FST/WebHome)\n",
    "2. [OpenGRM](http://www.opengrm.org/twiki/bin/view/GRM/NGramLibrary)"
   ]
  },
  {
   "cell_type": "markdown",
   "metadata": {},
   "source": [
    "### Install python requirements\n",
    "\n",
    "First things first, `matplotlib` and `pandas` python libraries are needed for some visualizations. We have to first install these modules."
   ]
  },
  {
   "cell_type": "code",
   "execution_count": 63,
   "metadata": {
    "scrolled": true
   },
   "outputs": [
    {
     "name": "stdout",
     "output_type": "stream",
     "text": [
      "Requirement already satisfied: matplotlib in /usr/local/lib/python3.8/dist-packages (3.3.4)\n",
      "Requirement already satisfied: pandas in /usr/local/lib/python3.8/dist-packages (1.2.5)\n",
      "Requirement already satisfied: python-dateutil>=2.1 in /usr/local/lib/python3.8/dist-packages (from matplotlib) (2.8.1)\n",
      "Requirement already satisfied: pillow>=6.2.0 in /usr/local/lib/python3.8/dist-packages (from matplotlib) (8.3.1)\n",
      "Requirement already satisfied: pyparsing!=2.0.4,!=2.1.2,!=2.1.6,>=2.0.3 in /usr/local/lib/python3.8/dist-packages (from matplotlib) (2.4.7)\n",
      "Requirement already satisfied: numpy>=1.15 in /usr/local/lib/python3.8/dist-packages (from matplotlib) (1.18.5)\n",
      "Requirement already satisfied: kiwisolver>=1.0.1 in /usr/local/lib/python3.8/dist-packages (from matplotlib) (1.3.1)\n",
      "Requirement already satisfied: cycler>=0.10 in /usr/local/lib/python3.8/dist-packages (from matplotlib) (0.10.0)\n",
      "Requirement already satisfied: pytz>=2017.3 in /usr/lib/python3/dist-packages (from pandas) (2019.3)\n",
      "Requirement already satisfied: six>=1.5 in /usr/lib/python3/dist-packages (from python-dateutil>=2.1->matplotlib) (1.14.0)\n"
     ]
    }
   ],
   "source": [
    "%%bash\n",
    "pip3 install matplotlib pandas"
   ]
  },
  {
   "cell_type": "markdown",
   "metadata": {},
   "source": [
    "### Download Dataset\n",
    "\n",
    "The dataset used in this project is NL2SparQL4NLU. The dataset will be donwloaded using `git clone`. NL2SparQL4NLU is available on [git repository](https://github.com/esrel/NL2SparQL4NLU)."
   ]
  },
  {
   "cell_type": "code",
   "execution_count": 2,
   "metadata": {},
   "outputs": [
    {
     "name": "stdout",
     "output_type": "stream",
     "text": [
      "Dataset Successfuly Cloned.\n"
     ]
    },
    {
     "name": "stderr",
     "output_type": "stream",
     "text": [
      "Cloning into 'NL2SparQL4NLU'...\n"
     ]
    }
   ],
   "source": [
    "%%bash\n",
    "dataset_path=\"NL2SparQL4NLU\"\n",
    "[ -d $dataset_path ] && echo \"Dataset Already Exists.\" || (git clone https://github.com/esrel/NL2SparQL4NLU.git NL2SparQL4NLU && echo \"Dataset Successfuly Cloned.\")"
   ]
  },
  {
   "cell_type": "markdown",
   "metadata": {},
   "source": [
    "### Download conll.py\n",
    "\n",
    "`conll.py` is being used for evaluation. It is modified version of `conlleval` python module and available on the course git repo. Let's download it directly to the working directory."
   ]
  },
  {
   "cell_type": "code",
   "execution_count": 3,
   "metadata": {},
   "outputs": [
    {
     "name": "stderr",
     "output_type": "stream",
     "text": [
      "--2021-08-15 09:22:43--  https://raw.githubusercontent.com/esrel/LUS/master/src/conll.py\n",
      "Resolving raw.githubusercontent.com (raw.githubusercontent.com)... 185.199.109.133, 185.199.108.133, 185.199.110.133, ...\n",
      "Connecting to raw.githubusercontent.com (raw.githubusercontent.com)|185.199.109.133|:443... connected.\n",
      "HTTP request sent, awaiting response... 200 OK\n",
      "Length: 6147 (6.0K) [text/plain]\n",
      "Saving to: ‘conll.py’\n",
      "\n",
      "     0K ......                                                100% 5.00M=0.001s\n",
      "\n",
      "2021-08-15 09:22:43 (5.00 MB/s) - ‘conll.py’ saved [6147/6147]\n",
      "\n"
     ]
    }
   ],
   "source": [
    "%%bash\n",
    "conll_file=\"conll.py\"\n",
    "[ -f $conll_file ] && echo \"conll.py Already Exists.\" || wget https://raw.githubusercontent.com/esrel/LUS/master/src/conll.py\n"
   ]
  },
  {
   "cell_type": "markdown",
   "metadata": {},
   "source": [
    "## Data Preparation\n",
    "\n",
    "NL2SparQL4NLU is the main dataset in this project. It provides sentences in different formats in Movie Domain.\n",
    "The dataset is split in Train and Test. For both Train and Test subsets Four files are provided:\n",
    "\n",
    "1. *.conll.txt token-per-line CONLL format with tokens & NLU concept tags; automatically extracted from SPARQL queries & manually inspected.\n",
    "\n",
    "2. *.features.conll.txt POS-tag and Lemmas in token-per-line CONLL format (with tokens on the first column); produced automatically using TreeTagger.\n",
    "\n",
    "3. *.utterances.txt utterance only; in utterance-per-line format.\n",
    "\n",
    "4. *.utterance.labels.txt labels per utterance for intent/utterance classification; automatically extracted from SPARQL queries.\n",
    "\n"
   ]
  },
  {
   "cell_type": "markdown",
   "metadata": {},
   "source": [
    "### Reading Corpus\n",
    "\n",
    "To be able to use the dataset the first step is to read the file and convert it to a usable list format in python. First of all `read_corpus` is defined to read the *utterance-per-line* format. The output would be a list of utterances, and each utterance is a list of tokens."
   ]
  },
  {
   "cell_type": "code",
   "execution_count": 4,
   "metadata": {},
   "outputs": [],
   "source": [
    "from typing import NewType, List\n",
    "\n",
    "Token = NewType('Token', str)\n",
    "Utter = NewType('Utter', List[Token])\n",
    "\n",
    "def read_corpus(corpus_path: str) -> List[Utter]:\n",
    "    \"\"\"Read an Utterance-per-line corpus file and convert it to list-of-lists format.\n",
    "\n",
    "    Args:\n",
    "        corpus_path (str): path to corpus file \n",
    "\n",
    "    Returns:\n",
    "        List[Utter]: corpus as list-of-lists\n",
    "    \"\"\"\n",
    "    f = open(corpus_path, \"r\")\n",
    "    utterances = f.readlines()\n",
    "    return [utterance.split() for utterance in utterances]\n"
   ]
  },
  {
   "cell_type": "code",
   "execution_count": 5,
   "metadata": {},
   "outputs": [
    {
     "name": "stdout",
     "output_type": "stream",
     "text": [
      "Print out first 3 utternaces of Train and Test Set...\n",
      "Train:\n",
      "\t who plays luke on star wars new hope\n",
      "\t show credits for the godfather\n",
      "\t who was the main actor in the exorcist\n",
      "Test:\n",
      "\t star of thor\n",
      "\t who is in the movie the campaign\n",
      "\t list the cast of the movie the campaign\n"
     ]
    }
   ],
   "source": [
    "trn = 'NL2SparQL4NLU/dataset/NL2SparQL4NLU.train.utterances.txt'\n",
    "tst = 'NL2SparQL4NLU/dataset/NL2SparQL4NLU.test.utterances.txt'\n",
    "\n",
    "trn_corpus = read_corpus(trn)\n",
    "tst_corpus = read_corpus(tst)\n",
    "\n",
    "print(\"Print out first 3 utternaces of Train and Test Set...\")\n",
    "print(\"Train:\")\n",
    "for i in range(0, 3):\n",
    "    print('\\t', ' '.join(trn_corpus[i]))\n",
    "print(\"Test:\")\n",
    "for i in range(0, 3):\n",
    "    print('\\t', ' '.join(tst_corpus[i]))"
   ]
  },
  {
   "cell_type": "markdown",
   "metadata": {},
   "source": [
    "### Corpus Descriptive Statistics\n",
    "\n",
    "Extract *Corpus* description in terms of:\n",
    "\n",
    "- total number of words\n",
    "- total number of utterances\n",
    "\n",
    "These two functions will help us to have a general view of how big our dataset is."
   ]
  },
  {
   "cell_type": "code",
   "execution_count": 6,
   "metadata": {},
   "outputs": [],
   "source": [
    "def corpus_stats(corpus: List[Utter]) -> dict:\n",
    "    \"\"\"Caculates the statistics of a corpus\n",
    "\n",
    "    Args:\n",
    "        corpus (List[Utter]): List-of-Lists corpus\n",
    "\n",
    "    Returns:\n",
    "        dict:  {'tokens': num of tokens\n",
    "                'utterances': num of utterances}\n",
    "    \"\"\"\n",
    "    stats = {'tokens': 0, 'utterances': 0}\n",
    "    stats['utterances'] = len(corpus)\n",
    "    for utterance in corpus:\n",
    "        stats['tokens'] += len(utterance)\n",
    "    return stats"
   ]
  },
  {
   "cell_type": "markdown",
   "metadata": {},
   "source": [
    "Now we can check how many Utterances and Tokens are in the Train and Test set."
   ]
  },
  {
   "cell_type": "code",
   "execution_count": 7,
   "metadata": {},
   "outputs": [
    {
     "name": "stdout",
     "output_type": "stream",
     "text": [
      "Corpus Stats:\n"
     ]
    },
    {
     "data": {
      "text/html": [
       "<div>\n",
       "<style scoped>\n",
       "    .dataframe tbody tr th:only-of-type {\n",
       "        vertical-align: middle;\n",
       "    }\n",
       "\n",
       "    .dataframe tbody tr th {\n",
       "        vertical-align: top;\n",
       "    }\n",
       "\n",
       "    .dataframe thead th {\n",
       "        text-align: right;\n",
       "    }\n",
       "</style>\n",
       "<table border=\"1\" class=\"dataframe\">\n",
       "  <thead>\n",
       "    <tr style=\"text-align: right;\">\n",
       "      <th></th>\n",
       "      <th>tokens</th>\n",
       "      <th>utterances</th>\n",
       "    </tr>\n",
       "  </thead>\n",
       "  <tbody>\n",
       "    <tr>\n",
       "      <th>Train</th>\n",
       "      <td>21453</td>\n",
       "      <td>3338</td>\n",
       "    </tr>\n",
       "    <tr>\n",
       "      <th>Test</th>\n",
       "      <td>7117</td>\n",
       "      <td>1084</td>\n",
       "    </tr>\n",
       "  </tbody>\n",
       "</table>\n",
       "</div>"
      ],
      "text/plain": [
       "       tokens  utterances\n",
       "Train   21453        3338\n",
       "Test     7117        1084"
      ]
     },
     "metadata": {},
     "output_type": "display_data"
    }
   ],
   "source": [
    "import pandas as pd\n",
    "\n",
    "trn_stats = corpus_stats(trn_corpus)\n",
    "tst_stats = corpus_stats(tst_corpus)\n",
    "\n",
    "print(\"Corpus Stats:\")\n",
    "df = pd.DataFrame([trn_stats, tst_stats], index=['Train', 'Test'])\n",
    "display(df)\n"
   ]
  },
  {
   "cell_type": "markdown",
   "metadata": {},
   "source": [
    "### Generating Lexicon, and CutOff"
   ]
  },
  {
   "cell_type": "markdown",
   "metadata": {},
   "source": [
    "#### Generate Lexicon\n",
    " \n",
    ">[Lexicon](https://en.wikipedia.org/wiki/Lexicon) is the *vocabulary* of a language. In linguistics, a lexicon is a language's inventory of lexemes.\n",
    ">\n",
    ">Linguistic theories generally regard human languages as consisting of two parts: a lexicon, essentially a catalog of a language's words; and a grammar, a system of rules which allow for the combination of those words into meaningful sentences. \n",
    ">\n",
    ">*Lexicon (or Vocabulary) Size* is one of the statistics reported for corpora. While *Word Count* is the number of __tokens__, *Lexicon Size* is the number of __types__ (unique words).\n",
    "\n",
    "The implemented lexicon generator creates a list of all words used in a corpus."
   ]
  },
  {
   "cell_type": "code",
   "execution_count": 8,
   "metadata": {},
   "outputs": [],
   "source": [
    "def generate_lexicon(corpus: List[Utter]) -> List[Token]:\n",
    "    \"\"\"Generates Lexicon given a list-of-lists corpus.\n",
    "\n",
    "    Args:\n",
    "        corpus (List[Utter]): list-of-list corpus\n",
    "\n",
    "    Returns:\n",
    "        List[Token]: Lexicon\n",
    "    \"\"\"\n",
    "    lexicon = []\n",
    "    for utterance in corpus:\n",
    "        for token in utterance:\n",
    "            if token not in lexicon:\n",
    "                lexicon.append(token)\n",
    "    lexicon.sort()\n",
    "    return lexicon\n"
   ]
  },
  {
   "cell_type": "code",
   "execution_count": 64,
   "metadata": {},
   "outputs": [
    {
     "name": "stdout",
     "output_type": "stream",
     "text": [
      "Size of Lexicons:\n"
     ]
    },
    {
     "data": {
      "text/html": [
       "<div>\n",
       "<style scoped>\n",
       "    .dataframe tbody tr th:only-of-type {\n",
       "        vertical-align: middle;\n",
       "    }\n",
       "\n",
       "    .dataframe tbody tr th {\n",
       "        vertical-align: top;\n",
       "    }\n",
       "\n",
       "    .dataframe thead th {\n",
       "        text-align: right;\n",
       "    }\n",
       "</style>\n",
       "<table border=\"1\" class=\"dataframe\">\n",
       "  <thead>\n",
       "    <tr style=\"text-align: right;\">\n",
       "      <th></th>\n",
       "      <th>Size</th>\n",
       "    </tr>\n",
       "  </thead>\n",
       "  <tbody>\n",
       "    <tr>\n",
       "      <th>Train</th>\n",
       "      <td>1729</td>\n",
       "    </tr>\n",
       "    <tr>\n",
       "      <th>Test</th>\n",
       "      <td>1039</td>\n",
       "    </tr>\n",
       "  </tbody>\n",
       "</table>\n",
       "</div>"
      ],
      "text/plain": [
       "       Size\n",
       "Train  1729\n",
       "Test   1039"
      ]
     },
     "metadata": {},
     "output_type": "display_data"
    }
   ],
   "source": [
    "trn_lex = generate_lexicon(trn_corpus)\n",
    "tst_lex = generate_lexicon(tst_corpus)\n",
    "\n",
    "print(\"Size of Lexicons:\")\n",
    "df = pd.DataFrame([len(trn_lex), len(tst_lex)], index=[\n",
    "                  'Train', 'Test'], columns=['Size'])\n",
    "display(df)\n"
   ]
  },
  {
   "cell_type": "markdown",
   "metadata": {},
   "source": [
    "#### Generate Frequency List\n",
    "\n",
    "To remove the least and/or most used tokens from a corpus and then handling OOV words, there should be a function to calculate the frequency of words in a corpus. The Frequency List is generated by simply counting the occurrences of each word in the corpus. The provided function will generate a dictionary in which each key is a word and the corresponding value is number of occurrences of it. Then another function is used to select the top n items out of a `dict`."
   ]
  },
  {
   "cell_type": "code",
   "execution_count": 10,
   "metadata": {},
   "outputs": [],
   "source": [
    "def generate_freq_list(corpus: List[Utter], case_sensitive: bool = True) -> dict:\n",
    "    \"\"\"Generates Frequency List of words. Frequency fo each word is number of occurrences in corpus.\n",
    "\n",
    "    Args:\n",
    "        corpus (List[Utter]): list-of-list corpus\n",
    "        case_sensitive (bool, optional): Defaults to True.\n",
    "\n",
    "    Returns:\n",
    "        dict: in format of: {'word_1': freq_1, 'word_2': freq_2, ...}\n",
    "    \"\"\"\n",
    "    freq = {}\n",
    "    for utterance in corpus:\n",
    "        for token in utterance:\n",
    "            if not case_sensitive:\n",
    "                token = token.lower()\n",
    "            if token in freq:\n",
    "                freq[token] += 1\n",
    "            else:\n",
    "                freq[token] = 1\n",
    "    return dict(sorted(freq.items(), key=lambda item: item[1], reverse=True))\n",
    "\n",
    "\n",
    "def nbest(freq_list: dict, n: int = 1) -> dict:\n",
    "    \"\"\"Retrives n best items of a dict based on their Value; The higher the better.\n",
    "\n",
    "    Args:\n",
    "        freq_list (dict): frequency list in format of: {'word_1': freq_1, 'word_2': freq_2, ...}\n",
    "        n (int, optional): Number of items to return from top of the sorted list. Defaults to 1.\n",
    "\n",
    "    Returns:\n",
    "        dict: a sorted dict of size n. {'top_word_1': max_freq_1, 'top_word_2': max_freq_2, ...}\n",
    "    \"\"\"\n",
    "    return dict(sorted(freq_list.items(), key=lambda item: item[1], reverse=True)[:n])\n"
   ]
  },
  {
   "cell_type": "code",
   "execution_count": 11,
   "metadata": {},
   "outputs": [
    {
     "name": "stdout",
     "output_type": "stream",
     "text": [
      "Top 5 words in\n",
      "Train set:\n"
     ]
    },
    {
     "data": {
      "text/html": [
       "<div>\n",
       "<style scoped>\n",
       "    .dataframe tbody tr th:only-of-type {\n",
       "        vertical-align: middle;\n",
       "    }\n",
       "\n",
       "    .dataframe tbody tr th {\n",
       "        vertical-align: top;\n",
       "    }\n",
       "\n",
       "    .dataframe thead th {\n",
       "        text-align: right;\n",
       "    }\n",
       "</style>\n",
       "<table border=\"1\" class=\"dataframe\">\n",
       "  <thead>\n",
       "    <tr style=\"text-align: right;\">\n",
       "      <th></th>\n",
       "      <th>word</th>\n",
       "      <th>count</th>\n",
       "    </tr>\n",
       "  </thead>\n",
       "  <tbody>\n",
       "    <tr>\n",
       "      <th>1</th>\n",
       "      <td>the</td>\n",
       "      <td>1337</td>\n",
       "    </tr>\n",
       "    <tr>\n",
       "      <th>2</th>\n",
       "      <td>movies</td>\n",
       "      <td>1126</td>\n",
       "    </tr>\n",
       "    <tr>\n",
       "      <th>3</th>\n",
       "      <td>of</td>\n",
       "      <td>607</td>\n",
       "    </tr>\n",
       "    <tr>\n",
       "      <th>4</th>\n",
       "      <td>in</td>\n",
       "      <td>582</td>\n",
       "    </tr>\n",
       "    <tr>\n",
       "      <th>5</th>\n",
       "      <td>movie</td>\n",
       "      <td>564</td>\n",
       "    </tr>\n",
       "  </tbody>\n",
       "</table>\n",
       "</div>"
      ],
      "text/plain": [
       "     word  count\n",
       "1     the   1337\n",
       "2  movies   1126\n",
       "3      of    607\n",
       "4      in    582\n",
       "5   movie    564"
      ]
     },
     "metadata": {},
     "output_type": "display_data"
    },
    {
     "name": "stdout",
     "output_type": "stream",
     "text": [
      "Test set:\n"
     ]
    },
    {
     "data": {
      "text/html": [
       "<div>\n",
       "<style scoped>\n",
       "    .dataframe tbody tr th:only-of-type {\n",
       "        vertical-align: middle;\n",
       "    }\n",
       "\n",
       "    .dataframe tbody tr th {\n",
       "        vertical-align: top;\n",
       "    }\n",
       "\n",
       "    .dataframe thead th {\n",
       "        text-align: right;\n",
       "    }\n",
       "</style>\n",
       "<table border=\"1\" class=\"dataframe\">\n",
       "  <thead>\n",
       "    <tr style=\"text-align: right;\">\n",
       "      <th></th>\n",
       "      <th>word</th>\n",
       "      <th>count</th>\n",
       "    </tr>\n",
       "  </thead>\n",
       "  <tbody>\n",
       "    <tr>\n",
       "      <th>1</th>\n",
       "      <td>the</td>\n",
       "      <td>406</td>\n",
       "    </tr>\n",
       "    <tr>\n",
       "      <th>2</th>\n",
       "      <td>movies</td>\n",
       "      <td>367</td>\n",
       "    </tr>\n",
       "    <tr>\n",
       "      <th>3</th>\n",
       "      <td>movie</td>\n",
       "      <td>200</td>\n",
       "    </tr>\n",
       "    <tr>\n",
       "      <th>4</th>\n",
       "      <td>of</td>\n",
       "      <td>194</td>\n",
       "    </tr>\n",
       "    <tr>\n",
       "      <th>5</th>\n",
       "      <td>in</td>\n",
       "      <td>184</td>\n",
       "    </tr>\n",
       "  </tbody>\n",
       "</table>\n",
       "</div>"
      ],
      "text/plain": [
       "     word  count\n",
       "1     the    406\n",
       "2  movies    367\n",
       "3   movie    200\n",
       "4      of    194\n",
       "5      in    184"
      ]
     },
     "metadata": {},
     "output_type": "display_data"
    }
   ],
   "source": [
    "trn_freq_list = generate_freq_list(trn_corpus)\n",
    "tst_freq_list = generate_freq_list(tst_corpus)\n",
    "\n",
    "trn_freq_top_5 = nbest(trn_freq_list, 5)\n",
    "tst_freq_top_5 = nbest(tst_freq_list, 5)\n",
    "\n",
    "print(\"Top 5 words in\")\n",
    "\n",
    "print(\"Train set:\")\n",
    "df = pd.DataFrame(trn_freq_top_5.items(), columns=['word', 'count'])\n",
    "df.index += 1\n",
    "display(df)\n",
    "\n",
    "print(\"Test set:\")\n",
    "df = pd.DataFrame(tst_freq_top_5.items(), columns=['word', 'count'])\n",
    "df.index += 1\n",
    "display(df)\n"
   ]
  },
  {
   "cell_type": "markdown",
   "metadata": {},
   "source": [
    "#### Cut-off Lexicon\n",
    "\n",
    "Given a Frequency List it is possible to remove the words that are occured more than or less than a specific value. This will lead to Out of Vocabulary tokens."
   ]
  },
  {
   "cell_type": "code",
   "execution_count": 12,
   "metadata": {},
   "outputs": [],
   "source": [
    "import math\n",
    "\n",
    "\n",
    "def cutoff_freq_list(freq_list: dict, min_cut: int = 0, max_cut: int = math.inf) -> List[Token]:\n",
    "    \"\"\"Computes a lexicon in which all words met the frequency threshold. All words of the output lexicon are occured at\n",
    "    least `min_cut` times and at most `max_cut` times in the `freq_list`.\n",
    "\n",
    "    Args:\n",
    "        freq_list (dict): frequency list generated by generate_freq_list\n",
    "        min_cut (int, optional): minimum threshold of counts. Defaults to 0.\n",
    "        max_cut (int, optional): maximum threshold of counts. Defaults to math.inf.\n",
    "\n",
    "    Returns:\n",
    "        List[Token]: A Lexicon with the given conditions.\n",
    "    \"\"\"\n",
    "    lexicon = []\n",
    "    for word, freq in freq_list.items():\n",
    "        if freq < min_cut or freq > max_cut:\n",
    "            continue\n",
    "        lexicon.append(word)\n",
    "    lexicon.sort()\n",
    "    return lexicon\n"
   ]
  },
  {
   "cell_type": "markdown",
   "metadata": {},
   "source": [
    "Check lexicon size by applying different cutoff conditions:\n",
    "\n",
    "1. No cutoff\n",
    "2. cutoff with min=2\n",
    "3. cutoff with max=100\n",
    "4. cutoff with both min=2 and max=100  "
   ]
  },
  {
   "cell_type": "code",
   "execution_count": 13,
   "metadata": {},
   "outputs": [
    {
     "name": "stdout",
     "output_type": "stream",
     "text": [
      "Lexicon size by applying different cutoff conditions:\n"
     ]
    },
    {
     "data": {
      "text/html": [
       "<div>\n",
       "<style scoped>\n",
       "    .dataframe tbody tr th:only-of-type {\n",
       "        vertical-align: middle;\n",
       "    }\n",
       "\n",
       "    .dataframe tbody tr th {\n",
       "        vertical-align: top;\n",
       "    }\n",
       "\n",
       "    .dataframe thead th {\n",
       "        text-align: right;\n",
       "    }\n",
       "</style>\n",
       "<table border=\"1\" class=\"dataframe\">\n",
       "  <thead>\n",
       "    <tr style=\"text-align: right;\">\n",
       "      <th></th>\n",
       "      <th>min</th>\n",
       "      <th>max</th>\n",
       "      <th>size</th>\n",
       "    </tr>\n",
       "  </thead>\n",
       "  <tbody>\n",
       "    <tr>\n",
       "      <th>1</th>\n",
       "      <td>0</td>\n",
       "      <td>inf</td>\n",
       "      <td>1729</td>\n",
       "    </tr>\n",
       "    <tr>\n",
       "      <th>2</th>\n",
       "      <td>0</td>\n",
       "      <td>100.0</td>\n",
       "      <td>1694</td>\n",
       "    </tr>\n",
       "    <tr>\n",
       "      <th>3</th>\n",
       "      <td>2</td>\n",
       "      <td>inf</td>\n",
       "      <td>950</td>\n",
       "    </tr>\n",
       "    <tr>\n",
       "      <th>4</th>\n",
       "      <td>2</td>\n",
       "      <td>100.0</td>\n",
       "      <td>915</td>\n",
       "    </tr>\n",
       "  </tbody>\n",
       "</table>\n",
       "</div>"
      ],
      "text/plain": [
       "   min    max  size\n",
       "1    0    inf  1729\n",
       "2    0  100.0  1694\n",
       "3    2    inf   950\n",
       "4    2  100.0   915"
      ]
     },
     "metadata": {},
     "output_type": "display_data"
    }
   ],
   "source": [
    "cut_lex_stats = []\n",
    "for min_cut in [0,2]:\n",
    "    for max_cut in [math.inf,100]:\n",
    "        cut_lex_stats.append({\n",
    "            'min': min_cut,\n",
    "            'max': max_cut,\n",
    "            'size': len(cutoff_freq_list(trn_freq_list,min_cut=min_cut,max_cut=max_cut))\n",
    "        })\n",
    "\n",
    "df = pd.DataFrame(cut_lex_stats)\n",
    "df.index += 1\n",
    "print(\"Lexicon size by applying different cutoff conditions:\")\n",
    "display(df)"
   ]
  },
  {
   "cell_type": "markdown",
   "metadata": {},
   "source": [
    "### Manage OOV and Tags\n"
   ]
  },
  {
   "cell_type": "markdown",
   "metadata": {},
   "source": [
    "#### Add Tags\n",
    "\n",
    "Having sentence begin and sentence end tags leads to a better model.\n",
    ">The beginning of the sentence tag gives the bigram context of the first word; and encodes probability of a word to start a sentence. Adding the end of the sentence tag, on the other hand, makes the bigram model a true probability distribution (Jurafsky and Martin). \"Without it, the sentence probabilities for all sentences of a given length would sum to one. This model would define an infinite set of probability distributions, with one distribution per sentence length.\"\n",
    "\n",
    "Therefore, a function is implemented to add a `begin_tag` token at the beginning of each utterance and an `end_tag` to the end of it."
   ]
  },
  {
   "cell_type": "code",
   "execution_count": 14,
   "metadata": {},
   "outputs": [],
   "source": [
    "def add_tags(corpus: List[Utter], begin_tag: str = '<s>', end_tag: str = '</s>') -> List[Utter]:\n",
    "    \"\"\"Add Begin and End tags to each utternace in a corpus.\n",
    "\n",
    "    Args:\n",
    "        corpus (List[Utter]): a list-of-list corpus format.\n",
    "        begin_tag (str, optional): Begin of Sentence Tag. Defaults to '<s>'.\n",
    "        end_tag (str, optional): End of Sentence Tag. Defaults to '</s>'.\n",
    "\n",
    "    Returns:\n",
    "        List[Utter]: New Corpus\n",
    "    \"\"\"\n",
    "    tmp_corpus = []\n",
    "    for utternace in corpus:\n",
    "        tmp_corpus.append([begin_tag] + utternace + [end_tag])\n",
    "    return tmp_corpus\n"
   ]
  },
  {
   "cell_type": "markdown",
   "metadata": {},
   "source": [
    "Add tags to train and test corpuses:"
   ]
  },
  {
   "cell_type": "code",
   "execution_count": 15,
   "metadata": {},
   "outputs": [
    {
     "name": "stdout",
     "output_type": "stream",
     "text": [
      "Print out first utterance of both Train and Test set.\n",
      "Train:\n",
      "\t <s> who plays luke on star wars new hope </s>\n",
      "Test:\n",
      "\t <s> star of thor </s>\n"
     ]
    }
   ],
   "source": [
    "trn_tg_corpus = add_tags(trn_corpus,begin_tag='<s>',end_tag='</s>')\n",
    "tst_tg_corpus = add_tags(tst_corpus,begin_tag='<s>',end_tag='</s>')\n",
    "print(\"Print out first utterance of both Train and Test set.\")\n",
    "print(\"Train:\")\n",
    "print('\\t',' '.join(trn_tg_corpus[0]))\n",
    "print(\"Test:\")\n",
    "print('\\t',' '.join(tst_tg_corpus[0]))\n"
   ]
  },
  {
   "cell_type": "markdown",
   "metadata": {},
   "source": [
    "#### Handle OOV\n",
    "\n",
    "When working on test data, there are tokens that are not seen before in lexicon. They can either be removed from lexicon because of the sparsity of data or not seen in train data at all. We have to change these tokens to a single tag allocated for Unseen Words. A function will replace every tokens of a corpus that are not available in a given lexicon with a specific `unk` tag."
   ]
  },
  {
   "cell_type": "code",
   "execution_count": 16,
   "metadata": {},
   "outputs": [],
   "source": [
    "def replace_oov(corpus: List[Utter], lexicon: List[Token], unk:str='<unk>') -> List[Utter]:\n",
    "    \"\"\"Replace Out of Vocabulary words in Corpus with `unk`. The vocabulary is given as a Lexicon. \n",
    "\n",
    "    Args:\n",
    "        corpus (List[Utter]): a list-of-list format corpus\n",
    "        lexicon (List[Token]): Vocabulary\n",
    "        unk (str, optional): The token to use as unknown word. Defaults to '<unk>'.\n",
    "\n",
    "    Returns:\n",
    "        List[Utter]: The New Corpus with replaced OOVs.\n",
    "    \"\"\"\n",
    "    return [[token if token in lexicon else unk for token in sent] for sent in corpus]"
   ]
  },
  {
   "cell_type": "markdown",
   "metadata": {},
   "source": [
    "Let's do the whole corpus preparation pipeline and see some stats. The pipeline consists of reading corpus from file, applying frequency cutoff, replacing OOV, and adding sentence tags."
   ]
  },
  {
   "cell_type": "code",
   "execution_count": 17,
   "metadata": {},
   "outputs": [
    {
     "name": "stdout",
     "output_type": "stream",
     "text": [
      "One utterance of the Modified(CutOff, OOV, Tag) corpus:\n",
      "<s> find out the budget of <unk> </s>\n",
      "\n",
      "Some stats for the Modified corpus:\n"
     ]
    },
    {
     "data": {
      "text/html": [
       "<div>\n",
       "<style scoped>\n",
       "    .dataframe tbody tr th:only-of-type {\n",
       "        vertical-align: middle;\n",
       "    }\n",
       "\n",
       "    .dataframe tbody tr th {\n",
       "        vertical-align: top;\n",
       "    }\n",
       "\n",
       "    .dataframe thead th {\n",
       "        text-align: right;\n",
       "    }\n",
       "</style>\n",
       "<table border=\"1\" class=\"dataframe\">\n",
       "  <thead>\n",
       "    <tr style=\"text-align: right;\">\n",
       "      <th></th>\n",
       "      <th>tokens</th>\n",
       "      <th>utterances</th>\n",
       "    </tr>\n",
       "  </thead>\n",
       "  <tbody>\n",
       "    <tr>\n",
       "      <th>Train</th>\n",
       "      <td>28129</td>\n",
       "      <td>3338</td>\n",
       "    </tr>\n",
       "    <tr>\n",
       "      <th>Test</th>\n",
       "      <td>9285</td>\n",
       "      <td>1084</td>\n",
       "    </tr>\n",
       "  </tbody>\n",
       "</table>\n",
       "</div>"
      ],
      "text/plain": [
       "       tokens  utterances\n",
       "Train   28129        3338\n",
       "Test     9285        1084"
      ]
     },
     "metadata": {},
     "output_type": "display_data"
    }
   ],
   "source": [
    "trn_corpus = read_corpus(trn)\n",
    "trn_freq_list_m = generate_freq_list(trn_corpus)\n",
    "trn_lex_m = cutoff_freq_list(trn_freq_list_m, min_cut=2)\n",
    "trn_corpus_m = replace_oov(trn_corpus, trn_lex_m, unk='<unk>')\n",
    "trn_corpus_m = add_tags(trn_corpus_m)\n",
    "\n",
    "print(\"One utterance of the Modified(CutOff, OOV, Tag) corpus:\")\n",
    "print(' '.join(trn_corpus_m[222]))\n",
    "\n",
    "tst_corpus = read_corpus(tst)\n",
    "tst_freq_list_m = generate_freq_list(tst_corpus)\n",
    "tst_lex_m = cutoff_freq_list(tst_freq_list_m, min_cut=2)\n",
    "tst_corpus_m = replace_oov(tst_corpus, tst_lex_m, unk='<unk>')\n",
    "tst_corpus_m = add_tags(tst_corpus_m)\n",
    "\n",
    "\n",
    "print(\"\\nSome stats for the Modified corpus:\")\n",
    "trn_stats_m = corpus_stats(trn_corpus_m)\n",
    "tst_stats_m = corpus_stats(tst_corpus_m)\n",
    "\n",
    "df = pd.DataFrame([trn_stats_m, tst_stats_m], index=['Train', 'Test'])\n",
    "display(df)\n"
   ]
  },
  {
   "cell_type": "markdown",
   "metadata": {},
   "source": [
    "### Conll Corpus Format\n",
    "\n",
    "Corpus in CoNLL format consists of series of sentences, separated by blank lines. Each sentence is encoded using a table (or \"grid\") of values, where each line corresponds to a single word, and each column corresponds to an annotation type. In our dataset there is one column giving information about the concept of each token in IOB scheme. IOB is useful to represent concept of multi-word spans. Each tag has two parts; A Prefix and a Concept. \n",
    "\n",
    "Prefixes are:\n",
    "- __B__ for (__B__)eginning of span\n",
    "- __I__ for (__I__)nside of span\n",
    "- __O__ for (__O__)tside of span (no prefix or suffix, just `O`)\n"
   ]
  },
  {
   "cell_type": "markdown",
   "metadata": {},
   "source": [
    "#### Read CONLL corpus file\n",
    "\n",
    "A function is implemented to read a CoNLL file into a list of utterances format. Each utterance is list of IOB Tokens. An IOB token is a tuple with the token as it's first element and IOB tag as it's second one."
   ]
  },
  {
   "cell_type": "code",
   "execution_count": 18,
   "metadata": {},
   "outputs": [],
   "source": [
    "from typing import Tuple\n",
    "\n",
    "IOBToken = NewType('IOBToken', Tuple)\n",
    "IOBUtter = NewType('IOBUtter', List[IOBToken])\n",
    "\n",
    "\n",
    "def read_corpus_conll(corpus_file: str, fs: str = \"\\t\") -> List[IOBUtter]:\n",
    "    \"\"\"Read Corpus in CoNLL Format.\n",
    "\n",
    "    Args:\n",
    "        corpus_file (str): corpus file path in conll format\n",
    "        fs (str, optional): field separator. Defaults to \"\\t\".\n",
    "\n",
    "    Raises:\n",
    "        ValueError: Unexpected number of columns\n",
    "\n",
    "    Returns:\n",
    "        List[IOBUtter]: Corpus as list of IOB Utterances.\n",
    "    \"\"\"\n",
    "    featn = None  # number of features for consistency check\n",
    "    sents = []  # list to hold words list sequences\n",
    "    words = []  # list to hold feature tuples\n",
    "\n",
    "    for line in open(corpus_file):\n",
    "        line = line.strip()\n",
    "        if len(line.strip()) > 0:\n",
    "            feats = tuple(line.strip().split(fs))\n",
    "            if not featn:\n",
    "                featn = len(feats)\n",
    "            elif featn != len(feats) and len(feats) != 0:\n",
    "                raise ValueError(\n",
    "                    \"Unexpected number of columns {} ({})\".format(len(feats), featn))\n",
    "            words.append(feats)\n",
    "        else:\n",
    "            if len(words) > 0:\n",
    "                sents.append(words)\n",
    "                words = []\n",
    "    return sents"
   ]
  },
  {
   "cell_type": "markdown",
   "metadata": {},
   "source": [
    "Reading Train and Test CoNLL corpuses"
   ]
  },
  {
   "cell_type": "code",
   "execution_count": 19,
   "metadata": {},
   "outputs": [
    {
     "name": "stdout",
     "output_type": "stream",
     "text": [
      "One Utterance in CoNLL Corpus Format:\n",
      "\n",
      "[('who', 'O'), ('plays', 'O'), ('luke', 'B-character.name'), ('on', 'O'), ('star', 'B-movie.name'), ('wars', 'I-movie.name'), ('new', 'I-movie.name'), ('hope', 'I-movie.name')]\n"
     ]
    }
   ],
   "source": [
    "trn_conll = 'NL2SparQL4NLU/dataset/NL2SparQL4NLU.train.conll.txt'\n",
    "tst_conll = 'NL2SparQL4NLU/dataset/NL2SparQL4NLU.test.conll.txt'\n",
    "\n",
    "trn_conll_corpus = read_corpus_conll(trn_conll)\n",
    "tst_conll_corpus = read_corpus_conll(tst_conll)\n",
    "\n",
    "print('One Utterance in CoNLL Corpus Format:\\n')\n",
    "print(trn_conll_corpus[0])"
   ]
  },
  {
   "cell_type": "markdown",
   "metadata": {},
   "source": [
    "#### Handle Concepts"
   ]
  },
  {
   "cell_type": "markdown",
   "metadata": {},
   "source": [
    "1. Get All Concepts\n",
    "2. Get Concepts' frequency list\n"
   ]
  },
  {
   "cell_type": "code",
   "execution_count": 20,
   "metadata": {},
   "outputs": [],
   "source": [
    "import re\n",
    "\n",
    "\n",
    "def parse_iob(label: str) -> Tuple:\n",
    "    \"\"\"Parse an output label to extract IOB tag\n",
    "\n",
    "    Args:\n",
    "        label (str): IOB Label format e.g. I-actor.name \n",
    "\n",
    "    Returns:\n",
    "        Tuple: (IOB, Concept)\n",
    "    \"\"\"\n",
    "    m = re.match(r'^([^-]*)-(.*)$', label)\n",
    "    return m.groups() if m else (label, None)\n",
    "\n",
    "\n",
    "def get_chunks(corpus: List[IOBUtter], otag: str = \"O\") -> set:\n",
    "    \"\"\"Get List of all available Concepts in coprus\n",
    "\n",
    "    Args:\n",
    "        corpus (List[IOBUtter]): CoNLL Corpus\n",
    "        otag (str, optional): O tag. Defaults to \"O\".\n",
    "\n",
    "    Returns:\n",
    "        set: Alphabeticaly ordered concepts.\n",
    "    \"\"\"\n",
    "    sents = corpus\n",
    "    return set([parse_iob(token[-1])[1] for sent in sents for token in sent if token[-1] != otag])\n",
    "\n",
    "\n",
    "def get_chunks_freq(corpus: List[IOBUtter]) -> dict:\n",
    "    \"\"\"Get Dictionary of concepts and their number of occurance.\n",
    "\n",
    "    Args:\n",
    "        corpus (List[IOBUtter]): CoNLL Corpus\n",
    "\n",
    "    Returns:\n",
    "        dict: {'concept_1': 'count_1', 'concept_2': 'count_2', ...}\n",
    "    \"\"\"\n",
    "    chunks = get_chunks(corpus)\n",
    "    chunk_freq = {chunk: 0 for chunk in chunks}\n",
    "    for sent in corpus:\n",
    "        for token in sent:\n",
    "            chunk = parse_iob(token[-1])[1]\n",
    "            if chunk is None:\n",
    "                continue\n",
    "            if chunk in chunk_freq:\n",
    "                chunk_freq[chunk] += 1\n",
    "    return chunk_freq\n"
   ]
  },
  {
   "cell_type": "markdown",
   "metadata": {},
   "source": [
    "Let's see some simple statistics."
   ]
  },
  {
   "cell_type": "code",
   "execution_count": 21,
   "metadata": {},
   "outputs": [
    {
     "name": "stdout",
     "output_type": "stream",
     "text": [
      "Number of concepts:\n"
     ]
    },
    {
     "data": {
      "text/html": [
       "<div>\n",
       "<style scoped>\n",
       "    .dataframe tbody tr th:only-of-type {\n",
       "        vertical-align: middle;\n",
       "    }\n",
       "\n",
       "    .dataframe tbody tr th {\n",
       "        vertical-align: top;\n",
       "    }\n",
       "\n",
       "    .dataframe thead th {\n",
       "        text-align: right;\n",
       "    }\n",
       "</style>\n",
       "<table border=\"1\" class=\"dataframe\">\n",
       "  <thead>\n",
       "    <tr style=\"text-align: right;\">\n",
       "      <th></th>\n",
       "      <th>Num of Concepts</th>\n",
       "    </tr>\n",
       "  </thead>\n",
       "  <tbody>\n",
       "    <tr>\n",
       "      <th>Train</th>\n",
       "      <td>23</td>\n",
       "    </tr>\n",
       "    <tr>\n",
       "      <th>Test</th>\n",
       "      <td>22</td>\n",
       "    </tr>\n",
       "  </tbody>\n",
       "</table>\n",
       "</div>"
      ],
      "text/plain": [
       "       Num of Concepts\n",
       "Train               23\n",
       "Test                22"
      ]
     },
     "metadata": {},
     "output_type": "display_data"
    },
    {
     "name": "stdout",
     "output_type": "stream",
     "text": [
      "Most Frequent concepts in Train Set:\n"
     ]
    },
    {
     "data": {
      "text/html": [
       "<div>\n",
       "<style scoped>\n",
       "    .dataframe tbody tr th:only-of-type {\n",
       "        vertical-align: middle;\n",
       "    }\n",
       "\n",
       "    .dataframe tbody tr th {\n",
       "        vertical-align: top;\n",
       "    }\n",
       "\n",
       "    .dataframe thead th {\n",
       "        text-align: right;\n",
       "    }\n",
       "</style>\n",
       "<table border=\"1\" class=\"dataframe\">\n",
       "  <thead>\n",
       "    <tr style=\"text-align: right;\">\n",
       "      <th></th>\n",
       "      <th>Concept</th>\n",
       "      <th>Count</th>\n",
       "    </tr>\n",
       "  </thead>\n",
       "  <tbody>\n",
       "    <tr>\n",
       "      <th>1</th>\n",
       "      <td>movie.name</td>\n",
       "      <td>3157</td>\n",
       "    </tr>\n",
       "    <tr>\n",
       "      <th>2</th>\n",
       "      <td>director.name</td>\n",
       "      <td>455</td>\n",
       "    </tr>\n",
       "    <tr>\n",
       "      <th>3</th>\n",
       "      <td>actor.name</td>\n",
       "      <td>437</td>\n",
       "    </tr>\n",
       "    <tr>\n",
       "      <th>4</th>\n",
       "      <td>producer.name</td>\n",
       "      <td>336</td>\n",
       "    </tr>\n",
       "    <tr>\n",
       "      <th>5</th>\n",
       "      <td>person.name</td>\n",
       "      <td>280</td>\n",
       "    </tr>\n",
       "  </tbody>\n",
       "</table>\n",
       "</div>"
      ],
      "text/plain": [
       "         Concept  Count\n",
       "1     movie.name   3157\n",
       "2  director.name    455\n",
       "3     actor.name    437\n",
       "4  producer.name    336\n",
       "5    person.name    280"
      ]
     },
     "metadata": {},
     "output_type": "display_data"
    }
   ],
   "source": [
    "trn_chunks = get_chunks(trn_conll_corpus)\n",
    "tst_chunks = get_chunks(tst_conll_corpus)\n",
    "\n",
    "trn_chunk_freqs = get_chunks_freq(trn_conll_corpus)\n",
    "tst_chunk_freqs = get_chunks_freq(tst_conll_corpus)\n",
    "\n",
    "print(\"Number of concepts:\")\n",
    "df = pd.DataFrame([len(trn_chunks),len(tst_chunks)],index=['Train','Test'],columns=['Num of Concepts'])\n",
    "display(df)\n",
    "\n",
    "print(\"Most Frequent concepts in Train Set:\")\n",
    "df = pd.DataFrame(nbest(trn_chunk_freqs,5).items(),columns=['Concept','Count'])\n",
    "df.index += 1\n",
    "display(df)\n"
   ]
  },
  {
   "cell_type": "markdown",
   "metadata": {},
   "source": [
    "#### Labels\n",
    "\n",
    "1. get all labels\n",
    "2. get labels' frequency list"
   ]
  },
  {
   "cell_type": "code",
   "execution_count": 22,
   "metadata": {},
   "outputs": [],
   "source": [
    "def get_labels(corpus: List[IOBUtter]) -> dict:\n",
    "    \"\"\"Get Dictionary of all Labels in CoNLL Corpus\n",
    "\n",
    "    Args:\n",
    "        corpus (List[IOBUtter]): CoNLL Corpus\n",
    "\n",
    "    Returns:\n",
    "        dict: All Labels\n",
    "    \"\"\"\n",
    "    labels = {}\n",
    "    return {token[1] for sent in corpus for token in sent}\n",
    "\n",
    "def get_labels_freq(corpus: List[IOBUtter]) -> dict:\n",
    "    \"\"\"Get Frequency list of labels in CoNLL Corpus\n",
    "\n",
    "    Args:\n",
    "        corpus (List[IOBUtter]): CoNLL Corpus\n",
    "\n",
    "    Returns:\n",
    "        dict: {'label_1': 'count_1', 'label_2': 'count_2', ...}\n",
    "    \"\"\"\n",
    "    labels_freq = {label: 0 for label in get_labels(corpus)}\n",
    "    for sent in corpus:\n",
    "        for token in sent:\n",
    "            labels_freq[token[1]] += 1\n",
    "    return labels_freq\n",
    "    "
   ]
  },
  {
   "cell_type": "markdown",
   "metadata": {},
   "source": [
    "Let's see some simple statistics."
   ]
  },
  {
   "cell_type": "code",
   "execution_count": 23,
   "metadata": {},
   "outputs": [
    {
     "name": "stdout",
     "output_type": "stream",
     "text": [
      "Number of Labels:\n"
     ]
    },
    {
     "data": {
      "text/html": [
       "<div>\n",
       "<style scoped>\n",
       "    .dataframe tbody tr th:only-of-type {\n",
       "        vertical-align: middle;\n",
       "    }\n",
       "\n",
       "    .dataframe tbody tr th {\n",
       "        vertical-align: top;\n",
       "    }\n",
       "\n",
       "    .dataframe thead th {\n",
       "        text-align: right;\n",
       "    }\n",
       "</style>\n",
       "<table border=\"1\" class=\"dataframe\">\n",
       "  <thead>\n",
       "    <tr style=\"text-align: right;\">\n",
       "      <th></th>\n",
       "      <th>Num of Concepts</th>\n",
       "    </tr>\n",
       "  </thead>\n",
       "  <tbody>\n",
       "    <tr>\n",
       "      <th>Train</th>\n",
       "      <td>41</td>\n",
       "    </tr>\n",
       "    <tr>\n",
       "      <th>Test</th>\n",
       "      <td>39</td>\n",
       "    </tr>\n",
       "  </tbody>\n",
       "</table>\n",
       "</div>"
      ],
      "text/plain": [
       "       Num of Concepts\n",
       "Train               41\n",
       "Test                39"
      ]
     },
     "metadata": {},
     "output_type": "display_data"
    },
    {
     "name": "stdout",
     "output_type": "stream",
     "text": [
      "Most Frequent concepts in Train Set:\n"
     ]
    },
    {
     "data": {
      "text/html": [
       "<div>\n",
       "<style scoped>\n",
       "    .dataframe tbody tr th:only-of-type {\n",
       "        vertical-align: middle;\n",
       "    }\n",
       "\n",
       "    .dataframe tbody tr th {\n",
       "        vertical-align: top;\n",
       "    }\n",
       "\n",
       "    .dataframe thead th {\n",
       "        text-align: right;\n",
       "    }\n",
       "</style>\n",
       "<table border=\"1\" class=\"dataframe\">\n",
       "  <thead>\n",
       "    <tr style=\"text-align: right;\">\n",
       "      <th></th>\n",
       "      <th>Label</th>\n",
       "      <th>Count</th>\n",
       "    </tr>\n",
       "  </thead>\n",
       "  <tbody>\n",
       "    <tr>\n",
       "      <th>1</th>\n",
       "      <td>O</td>\n",
       "      <td>15391</td>\n",
       "    </tr>\n",
       "    <tr>\n",
       "      <th>2</th>\n",
       "      <td>I-movie.name</td>\n",
       "      <td>1755</td>\n",
       "    </tr>\n",
       "    <tr>\n",
       "      <th>3</th>\n",
       "      <td>B-movie.name</td>\n",
       "      <td>1402</td>\n",
       "    </tr>\n",
       "    <tr>\n",
       "      <th>4</th>\n",
       "      <td>B-director.name</td>\n",
       "      <td>237</td>\n",
       "    </tr>\n",
       "    <tr>\n",
       "      <th>5</th>\n",
       "      <td>B-actor.name</td>\n",
       "      <td>227</td>\n",
       "    </tr>\n",
       "  </tbody>\n",
       "</table>\n",
       "</div>"
      ],
      "text/plain": [
       "             Label  Count\n",
       "1                O  15391\n",
       "2     I-movie.name   1755\n",
       "3     B-movie.name   1402\n",
       "4  B-director.name    237\n",
       "5     B-actor.name    227"
      ]
     },
     "metadata": {},
     "output_type": "display_data"
    }
   ],
   "source": [
    "trn_labels = get_labels(trn_conll_corpus)\n",
    "tst_labels = get_labels(tst_conll_corpus)\n",
    "\n",
    "trn_label_freqs = get_labels_freq(trn_conll_corpus)\n",
    "tst_label_freqs = get_labels_freq(tst_conll_corpus)\n",
    "\n",
    "print(\"Number of Labels:\")\n",
    "df = pd.DataFrame([len(trn_labels), len(tst_labels)], index=[\n",
    "                  'Train', 'Test'], columns=['Num of Concepts'])\n",
    "display(df)\n",
    "\n",
    "print(\"Most Frequent concepts in Train Set:\")\n",
    "df = pd.DataFrame(nbest(trn_label_freqs, 5).items(),\n",
    "                  columns=['Label', 'Count'])\n",
    "df.index += 1\n",
    "display(df)\n"
   ]
  },
  {
   "cell_type": "markdown",
   "metadata": {},
   "source": [
    "#### More Detailed Statistics of Concepts and Labels\n",
    "\n",
    "1. Min, Max, and Average of Each Concept Length\n",
    "2. Average number of concepts per utternace"
   ]
  },
  {
   "cell_type": "code",
   "execution_count": 24,
   "metadata": {},
   "outputs": [],
   "source": [
    "from statistics import mean\n",
    "\n",
    "\n",
    "def get_chunks_lens(corpus: List[IOBUtter], otag: str = 'O') -> dict:\n",
    "    \"\"\"Get Min, Max, and Average of each concept length\n",
    "\n",
    "    Args:\n",
    "        corpus (List[IOBUtter]): CoNLL Corpus\n",
    "        otag (str, optional): O Tag. Defaults to 'O'.\n",
    "\n",
    "    Returns:\n",
    "        dict: {'entity_1': {'min': minimum_len, 'max': maximum_len, 'avg': average_len}, ...}\n",
    "    \"\"\"\n",
    "    entities_len = {entity: [] for entity in get_chunks(corpus)}\n",
    "    entities_len['*'] = []\n",
    "    entities_per_sentence = []\n",
    "\n",
    "    for sent in corpus:\n",
    "        last_entity = None\n",
    "        last_entity_len = 0\n",
    "        entities_in_sent = 0\n",
    "\n",
    "        for token in sent:\n",
    "            tag = token[-1]\n",
    "            if tag == otag:\n",
    "                continue\n",
    "            iob = parse_iob(tag)\n",
    "            if iob[0] == 'B':\n",
    "                entities_in_sent += 1\n",
    "                if last_entity:\n",
    "                    entities_len[last_entity].append(last_entity_len)\n",
    "                    entities_len['*'].append(last_entity_len)\n",
    "                last_entity = iob[1]\n",
    "                last_entity_len = 1\n",
    "            elif iob[0] == 'I':\n",
    "                last_entity_len += 1\n",
    "\n",
    "        if last_entity:\n",
    "            entities_len[last_entity].append(last_entity_len)\n",
    "            entities_len['*'].append(last_entity_len)\n",
    "\n",
    "    entities_len = {entity: {'min': min(entity_len), 'max': max(entity_len), 'avg': mean(\n",
    "        entity_len)} for entity, entity_len in entities_len.items()}\n",
    "\n",
    "    return entities_len\n",
    "\n",
    "\n",
    "def get_entities_per_sent(corpus: List[IOBUtter], otag: str = 'O') -> dict:\n",
    "    \"\"\"Returns Min, Max, and Average number of entities per utternace\n",
    "\n",
    "    Args:\n",
    "        corpus (List[IOBUtter]): CoNLL Corpus\n",
    "        otag (str, optional): O Tag. Defaults to 'O'.\n",
    "\n",
    "    Returns:\n",
    "        dict: {'min': minimum_number, 'max': maximum_number, 'avg': average_number}\n",
    "    \"\"\"\n",
    "    entities_per_sent = []\n",
    "    for sent in corpus:\n",
    "        entities_in_sent = 0\n",
    "        for token in sent:\n",
    "            tag = token[-1]\n",
    "            if tag == otag:\n",
    "                continue\n",
    "            iob = parse_iob(tag)\n",
    "            if iob[0] == 'B':\n",
    "                entities_in_sent += 1\n",
    "        entities_per_sent.append(entities_in_sent)\n",
    "    return {'min': min(entities_per_sent), 'max': max(entities_per_sent), 'avg': mean(entities_per_sent)}\n"
   ]
  },
  {
   "cell_type": "code",
   "execution_count": 25,
   "metadata": {},
   "outputs": [
    {
     "name": "stdout",
     "output_type": "stream",
     "text": [
      "Each Utterance in Train Set has at least 0 entities, at most 4 entities and on average 0.9700419412822049 entities.\n",
      "\n",
      "Length of Concepts in Train Set:\n"
     ]
    },
    {
     "data": {
      "text/html": [
       "<div>\n",
       "<style scoped>\n",
       "    .dataframe tbody tr th:only-of-type {\n",
       "        vertical-align: middle;\n",
       "    }\n",
       "\n",
       "    .dataframe tbody tr th {\n",
       "        vertical-align: top;\n",
       "    }\n",
       "\n",
       "    .dataframe thead th {\n",
       "        text-align: right;\n",
       "    }\n",
       "</style>\n",
       "<table border=\"1\" class=\"dataframe\">\n",
       "  <thead>\n",
       "    <tr style=\"text-align: right;\">\n",
       "      <th></th>\n",
       "      <th>min</th>\n",
       "      <th>max</th>\n",
       "      <th>avg</th>\n",
       "    </tr>\n",
       "  </thead>\n",
       "  <tbody>\n",
       "    <tr>\n",
       "      <th>movie.language</th>\n",
       "      <td>1</td>\n",
       "      <td>4</td>\n",
       "      <td>1.189655</td>\n",
       "    </tr>\n",
       "    <tr>\n",
       "      <th>producer.name</th>\n",
       "      <td>1</td>\n",
       "      <td>4</td>\n",
       "      <td>1.717949</td>\n",
       "    </tr>\n",
       "    <tr>\n",
       "      <th>movie.genre</th>\n",
       "      <td>1</td>\n",
       "      <td>2</td>\n",
       "      <td>1.042553</td>\n",
       "    </tr>\n",
       "    <tr>\n",
       "      <th>person.nationality</th>\n",
       "      <td>1</td>\n",
       "      <td>1</td>\n",
       "      <td>1.000000</td>\n",
       "    </tr>\n",
       "    <tr>\n",
       "      <th>movie.release_region</th>\n",
       "      <td>1</td>\n",
       "      <td>2</td>\n",
       "      <td>1.111111</td>\n",
       "    </tr>\n",
       "    <tr>\n",
       "      <th>actor.nationality</th>\n",
       "      <td>1</td>\n",
       "      <td>2</td>\n",
       "      <td>1.200000</td>\n",
       "    </tr>\n",
       "    <tr>\n",
       "      <th>director.name</th>\n",
       "      <td>1</td>\n",
       "      <td>3</td>\n",
       "      <td>1.919831</td>\n",
       "    </tr>\n",
       "    <tr>\n",
       "      <th>movie.release_date</th>\n",
       "      <td>1</td>\n",
       "      <td>6</td>\n",
       "      <td>2.241379</td>\n",
       "    </tr>\n",
       "    <tr>\n",
       "      <th>character.name</th>\n",
       "      <td>1</td>\n",
       "      <td>8</td>\n",
       "      <td>1.897959</td>\n",
       "    </tr>\n",
       "    <tr>\n",
       "      <th>person.name</th>\n",
       "      <td>1</td>\n",
       "      <td>2</td>\n",
       "      <td>1.854305</td>\n",
       "    </tr>\n",
       "    <tr>\n",
       "      <th>movie.gross_revenue</th>\n",
       "      <td>3</td>\n",
       "      <td>6</td>\n",
       "      <td>4.250000</td>\n",
       "    </tr>\n",
       "    <tr>\n",
       "      <th>award.category</th>\n",
       "      <td>1</td>\n",
       "      <td>1</td>\n",
       "      <td>1.000000</td>\n",
       "    </tr>\n",
       "    <tr>\n",
       "      <th>actor.type</th>\n",
       "      <td>1</td>\n",
       "      <td>1</td>\n",
       "      <td>1.000000</td>\n",
       "    </tr>\n",
       "    <tr>\n",
       "      <th>country.name</th>\n",
       "      <td>1</td>\n",
       "      <td>3</td>\n",
       "      <td>1.110526</td>\n",
       "    </tr>\n",
       "    <tr>\n",
       "      <th>movie.subject</th>\n",
       "      <td>1</td>\n",
       "      <td>6</td>\n",
       "      <td>1.430233</td>\n",
       "    </tr>\n",
       "    <tr>\n",
       "      <th>rating.name</th>\n",
       "      <td>1</td>\n",
       "      <td>7</td>\n",
       "      <td>1.200000</td>\n",
       "    </tr>\n",
       "    <tr>\n",
       "      <th>movie.star_rating</th>\n",
       "      <td>1</td>\n",
       "      <td>1</td>\n",
       "      <td>1.000000</td>\n",
       "    </tr>\n",
       "    <tr>\n",
       "      <th>movie.location</th>\n",
       "      <td>1</td>\n",
       "      <td>2</td>\n",
       "      <td>1.235294</td>\n",
       "    </tr>\n",
       "    <tr>\n",
       "      <th>award.ceremony</th>\n",
       "      <td>1</td>\n",
       "      <td>2</td>\n",
       "      <td>1.300000</td>\n",
       "    </tr>\n",
       "    <tr>\n",
       "      <th>actor.name</th>\n",
       "      <td>1</td>\n",
       "      <td>2</td>\n",
       "      <td>1.925110</td>\n",
       "    </tr>\n",
       "    <tr>\n",
       "      <th>movie.description</th>\n",
       "      <td>1</td>\n",
       "      <td>1</td>\n",
       "      <td>1.000000</td>\n",
       "    </tr>\n",
       "    <tr>\n",
       "      <th>movie.name</th>\n",
       "      <td>1</td>\n",
       "      <td>9</td>\n",
       "      <td>2.211127</td>\n",
       "    </tr>\n",
       "    <tr>\n",
       "      <th>director.nationality</th>\n",
       "      <td>1</td>\n",
       "      <td>1</td>\n",
       "      <td>1.000000</td>\n",
       "    </tr>\n",
       "    <tr>\n",
       "      <th>*</th>\n",
       "      <td>1</td>\n",
       "      <td>9</td>\n",
       "      <td>1.850525</td>\n",
       "    </tr>\n",
       "  </tbody>\n",
       "</table>\n",
       "</div>"
      ],
      "text/plain": [
       "                      min  max       avg\n",
       "movie.language          1    4  1.189655\n",
       "producer.name           1    4  1.717949\n",
       "movie.genre             1    2  1.042553\n",
       "person.nationality      1    1  1.000000\n",
       "movie.release_region    1    2  1.111111\n",
       "actor.nationality       1    2  1.200000\n",
       "director.name           1    3  1.919831\n",
       "movie.release_date      1    6  2.241379\n",
       "character.name          1    8  1.897959\n",
       "person.name             1    2  1.854305\n",
       "movie.gross_revenue     3    6  4.250000\n",
       "award.category          1    1  1.000000\n",
       "actor.type              1    1  1.000000\n",
       "country.name            1    3  1.110526\n",
       "movie.subject           1    6  1.430233\n",
       "rating.name             1    7  1.200000\n",
       "movie.star_rating       1    1  1.000000\n",
       "movie.location          1    2  1.235294\n",
       "award.ceremony          1    2  1.300000\n",
       "actor.name              1    2  1.925110\n",
       "movie.description       1    1  1.000000\n",
       "movie.name              1    9  2.211127\n",
       "director.nationality    1    1  1.000000\n",
       "*                       1    9  1.850525"
      ]
     },
     "metadata": {},
     "output_type": "display_data"
    }
   ],
   "source": [
    "trn_chunks_lens = get_chunks_lens(trn_conll_corpus)\n",
    "tst_chunks_lens = get_chunks_lens(tst_conll_corpus)\n",
    "\n",
    "trn_entities_per_sent = get_entities_per_sent(trn_conll_corpus)\n",
    "tst_entities_per_sent = get_entities_per_sent(tst_conll_corpus)\n",
    "\n",
    "print(\"Each Utterance in Train Set has at least {} entities, at most {} entities and on average {} entities.\\n\".format(\n",
    "    trn_entities_per_sent['min'], trn_entities_per_sent['max'], trn_entities_per_sent['avg']))\n",
    "print(\"Length of Concepts in Train Set:\")\n",
    "df = pd.DataFrame([value for key, value in trn_chunks_lens.items()], index=[\n",
    "                  key for key, value in trn_chunks_lens.items()])\n",
    "display(df)"
   ]
  },
  {
   "cell_type": "markdown",
   "metadata": {},
   "source": [
    "## Concept Tagging\n",
    "\n",
    "One common task in Natural Language Understanding is entity extraction or concept tagging. In this task, each sentence should be divided into segments of tokens; Then each segment should be tagged by a label (concept).\n",
    "\n",
    "In this project the first goal is to create a concept tagging pipeline using Hidden Markov Models. "
   ]
  },
  {
   "cell_type": "markdown",
   "metadata": {},
   "source": [
    "### The Pipeline\n",
    "\n",
    "A common pipeline of a concept tagger is consist of three main components:\n",
    "\n",
    "\n",
    "|                   | Description                      \n",
    "|:------------------|:------------------------------\n",
    "| $$\\lambda_{W}$$   | FSA representation of an input sentence\n",
    "| $$\\lambda_{W2T}$$ | FST to translate words into output labels (e.g. `iob+type`)\n",
    "| $$\\lambda_{*LM}$$ | FSA Ngram Language Model to score the sequences of output labels\n",
    "\n",
    "Consequently, Sequence Labeling ($\\lambda$) is performed by composition of these three components as:\n",
    "\n",
    "$$\\lambda = \\lambda_{W} \\circ \\lambda_{W2T} \\circ \\lambda_{*LM}$$\n"
   ]
  },
  {
   "cell_type": "markdown",
   "metadata": {},
   "source": [
    "### Initialize Workspace\n",
    "\n",
    "To begin with there are some requirements:\n",
    "\n",
    "1. import necessary python libraries\n",
    "2. import conll evaluator\n",
    "3. assign dataset files to root folder to have easier access"
   ]
  },
  {
   "cell_type": "code",
   "execution_count": 26,
   "metadata": {},
   "outputs": [],
   "source": [
    "# import necessary Libraries\n",
    "import os\n",
    "import sys\n",
    "import subprocess\n",
    "import matplotlib.pyplot as plt\n",
    "\n",
    "# import evaluator\n",
    "from conll import evaluate"
   ]
  },
  {
   "cell_type": "code",
   "execution_count": 27,
   "metadata": {},
   "outputs": [],
   "source": [
    "%%bash\n",
    "\n",
    "dpath='NL2SparQL4NLU/dataset/NL2SparQL4NLU'\n",
    "\n",
    "cp $dpath.train.utterances.txt trn.txt\n",
    "cp $dpath.test.utterances.txt tst.txt\n",
    "\n",
    "cp $dpath.train.conll.txt trn.conll\n",
    "cp $dpath.test.conll.txt tst.conll"
   ]
  },
  {
   "cell_type": "code",
   "execution_count": 28,
   "metadata": {},
   "outputs": [],
   "source": [
    "trn = 'trn.txt'\n",
    "tst = 'tst.txt'\n",
    "\n",
    "trn_conll = 'trn.conll'\n",
    "tst_conll = 'tst.conll'"
   ]
  },
  {
   "cell_type": "markdown",
   "metadata": {},
   "source": [
    "### Create Symbol Tables\n",
    "\n",
    "first we have to create our symbol tables. Our input symbols are tokens available in corpus, and output symbols are CoNLL labels. We will create multiple input symbol tables with different cut-off frequencies. The minimum cutoff varies between 1 and 6."
   ]
  },
  {
   "cell_type": "code",
   "execution_count": 29,
   "metadata": {},
   "outputs": [],
   "source": [
    "%%bash\n",
    "sym_path=\"syms\"\n",
    "[ -d $sym_path ] && echo \"$sym_path is already exists\" || mkdir $sym_path"
   ]
  },
  {
   "cell_type": "code",
   "execution_count": 30,
   "metadata": {},
   "outputs": [],
   "source": [
    "sym_path = \"syms\"\n",
    "\n",
    "trn_corpus = read_corpus(trn)\n",
    "\n",
    "cutoff_mins = [2, 3, 4, 5, 6]\n",
    "for min_cut in cutoff_mins:\n",
    "    trn_freq_list = generate_freq_list(trn_corpus)\n",
    "    trn_lex = cutoff_freq_list(trn_freq_list, min_cut=min_cut)\n",
    "    trn_lex.append('<s>')\n",
    "    trn_lex.append('</s>')\n",
    "    \n",
    "    input_file = os.path.join(sym_path, \"isyms_(mincut_\"+str(min_cut)+\").trn.txt\")\n",
    "    output_file =  os.path.join(sym_path, \"isyms_(mincut_\"+str(min_cut)+\").txt\")\n",
    "    \n",
    "    with open(input_file, 'w') as f:\n",
    "        f.write(\"\\n\".join(trn_lex) + \"\\n\")"
   ]
  },
  {
   "cell_type": "code",
   "execution_count": 31,
   "metadata": {},
   "outputs": [
    {
     "name": "stdout",
     "output_type": "stream",
     "text": [
      "list of isym files in syms:\n",
      "isyms_(mincut_2).txt\n",
      "isyms_(mincut_3).txt\n",
      "isyms_(mincut_4).txt\n",
      "isyms_(mincut_5).txt\n",
      "isyms_(mincut_6).txt\n"
     ]
    }
   ],
   "source": [
    "%%bash\n",
    "sym_path=\"syms\"\n",
    "for i in {2..6}\n",
    "do \n",
    "    ngramsymbols --OOV_symbol='<unk>' \"$sym_path/isyms_(mincut_$i).trn.txt\" \"$sym_path/isyms_(mincut_$i).txt\"\n",
    "done\n",
    "\n",
    "echo \"list of isym files in $sym_path:\"\n",
    "ls $sym_path | grep \"isyms_(mincut_[0-9+]).txt\""
   ]
  },
  {
   "cell_type": "markdown",
   "metadata": {},
   "source": [
    "Now, it's time for creating output symbols which are simply our labels that are observed in training set. Then as we did for input table, we apply different cutoff thresholds."
   ]
  },
  {
   "cell_type": "code",
   "execution_count": 32,
   "metadata": {},
   "outputs": [],
   "source": [
    "# Let's define a function to simplify working with data\n",
    "# get column from loaded corpus (tokens are tuples)\n",
    "def get_column(corpus, column=-1):\n",
    "    return [[word[column] for word in sent] for sent in corpus]\n",
    "\n",
    "trn_conll_corpus = read_corpus_conll(trn_conll)\n",
    "\n",
    "trn_t = get_column(trn_conll_corpus, column=-1)\n",
    "trn_t_freq_list = generate_freq_list(trn_t)\n",
    "\n",
    "for min_cut in cutoff_mins:\n",
    "    trn_t_lex = cutoff_freq_list(trn_t_freq_list,min_cut=min_cut)\n",
    "    with open(os.path.join(sym_path,'osyms_(mincut_{}).trn.t.txt'.format(min_cut)), 'w') as f:\n",
    "        f.write(\"\\n\".join(trn_t_lex) + \"\\n\")"
   ]
  },
  {
   "cell_type": "code",
   "execution_count": 33,
   "metadata": {
    "scrolled": false
   },
   "outputs": [
    {
     "name": "stdout",
     "output_type": "stream",
     "text": [
      "list of osym files in syms:\n",
      "osyms_(mincut_2).t.txt\n",
      "osyms_(mincut_3).t.txt\n",
      "osyms_(mincut_4).t.txt\n",
      "osyms_(mincut_5).t.txt\n",
      "osyms_(mincut_6).t.txt\n"
     ]
    }
   ],
   "source": [
    "%%bash\n",
    "sym_path=\"syms\"\n",
    "for i in {2..6}\n",
    "do \n",
    "    ngramsymbols --OOV_symbol='<unk>' \"$sym_path/osyms_(mincut_$i).trn.t.txt\" \"$sym_path/osyms_(mincut_$i).t.txt\"\n",
    "done\n",
    "\n",
    "echo \"list of osym files in $sym_path:\"\n",
    "ls $sym_path | grep \"osyms_(mincut_[0-9+]).t.txt\""
   ]
  },
  {
   "cell_type": "markdown",
   "metadata": {},
   "source": [
    "### Compile input and output into FAR"
   ]
  },
  {
   "cell_type": "code",
   "execution_count": 34,
   "metadata": {},
   "outputs": [
    {
     "name": "stdout",
     "output_type": "stream",
     "text": [
      "list of far files created in far:\n",
      "trn_(mincut_2).far\n",
      "trn_(mincut_3).far\n",
      "trn_(mincut_4).far\n",
      "trn_(mincut_5).far\n",
      "trn_(mincut_6).far\n",
      "tst_(mincut_2).far\n",
      "tst_(mincut_3).far\n",
      "tst_(mincut_4).far\n",
      "tst_(mincut_5).far\n",
      "tst_(mincut_6).far\n"
     ]
    }
   ],
   "source": [
    "%%bash\n",
    "sym_path=\"syms\"\n",
    "far_path=\"far\"\n",
    "\n",
    "[ -d $far_path ] && echo \"$far_path is already exists\" || mkdir $far_path\n",
    "\n",
    "# compile Train and Test set with all input symbol tables\n",
    "\n",
    "for i in {2..6}\n",
    "do \n",
    "    farcompilestrings \\\n",
    "        --symbols=\"$sym_path/isyms_(mincut_$i).txt\" \\\n",
    "        --keep_symbols \\\n",
    "        --unknown_symbol='<unk>' \\\n",
    "        trn.txt \"$far_path/trn_(mincut_$i).far\"\n",
    "\n",
    "    farcompilestrings \\\n",
    "        --symbols=\"$sym_path/isyms_(mincut_$i).txt\"  \\\n",
    "        --keep_symbols \\\n",
    "        --unknown_symbol='<unk>' \\\n",
    "        tst.txt \"$far_path/tst_(mincut_$i).far\" \n",
    "done\n",
    "\n",
    "echo \"list of far files created in $far_path:\"\n",
    "ls $far_path | grep \"[trn|tst]_(mincut_[0-9+]).far\""
   ]
  },
  {
   "cell_type": "markdown",
   "metadata": {},
   "source": [
    "Now, to compile output tags to far we need to write them in corpus format in a file. Then we can compile it to a FAR."
   ]
  },
  {
   "cell_type": "code",
   "execution_count": 35,
   "metadata": {},
   "outputs": [],
   "source": [
    "with open('trn.t.txt', 'w') as f:\n",
    "    for s in trn_t:\n",
    "        f.write(\" \".join(s) + \"\\n\")"
   ]
  },
  {
   "cell_type": "code",
   "execution_count": 36,
   "metadata": {},
   "outputs": [
    {
     "name": "stdout",
     "output_type": "stream",
     "text": [
      "list of far files created in far:\n",
      "trn_(mincut_2).t.far\n",
      "trn_(mincut_3).t.far\n",
      "trn_(mincut_4).t.far\n",
      "trn_(mincut_5).t.far\n",
      "trn_(mincut_6).t.far\n"
     ]
    }
   ],
   "source": [
    "%%bash\n",
    "sym_path=\"syms\"\n",
    "far_path=\"far\"\n",
    "\n",
    "# compile Output tags with all output symbol tables\n",
    "for i in {2..6}\n",
    "do \n",
    "    farcompilestrings \\\n",
    "        --symbols=\"$sym_path/osyms_(mincut_$i).t.txt\" \\\n",
    "        --keep_symbols \\\n",
    "        --unknown_symbol='<unk>' \\\n",
    "        trn.t.txt \"$far_path/trn_(mincut_$i).t.far\"\n",
    "done\n",
    "\n",
    "echo \"list of far files created in $far_path:\"\n",
    "ls $far_path | grep \"trn_(mincut_[0-6]).t.far\"\n",
    "\n"
   ]
  },
  {
   "cell_type": "markdown",
   "metadata": {},
   "source": [
    "Until now we have created the first part of our pipeline which is $\\lambda_{W}$."
   ]
  },
  {
   "cell_type": "markdown",
   "metadata": {},
   "source": [
    "### Train $\\lambda_{*LM}$\n",
    "\n",
    "$\\lambda_{*LM}$ is language model (Ngram) to score the pipeline. A Ngram model will be used as the last part of the pipeline. To assess the different parameters for our pipeline, here two parameters will be considered:\n",
    "\n",
    "1. Ngram order\n",
    "2. Ngram Smoothing\n",
    "\n",
    "As for order, ngram orders from 1 to 5 will be tested and for smoothing, all available smoothing method in `ngrammake` are going to be used. Mentioned in their documentation these smoothing methods are available:\n",
    "\n",
    "* absolute\n",
    "* katz\n",
    "* kneser_ney \n",
    "* presmoothed\n",
    "* unsmoothed\n",
    "* katz_frac\n",
    "* witten_bell\n",
    "\n",
    "During the test, there was an unknown error with katz_frac method. Therefore, this method is ignored."
   ]
  },
  {
   "cell_type": "code",
   "execution_count": 37,
   "metadata": {},
   "outputs": [
    {
     "name": "stdout",
     "output_type": "stream",
     "text": [
      "LM models created.\n"
     ]
    }
   ],
   "source": [
    "%%bash\n",
    "\n",
    "far_path='far'\n",
    "ngram_path='ngram'\n",
    "lm_path='lm'\n",
    "\n",
    "[ -d $ngram_path ] && echo \"$ngram_path already exists\" || mkdir $ngram_path\n",
    "[ -d $lm_path ] && echo \"$lm_path already exists\" || mkdir $lm_path\n",
    "\n",
    "for min_cut in {2..6}\n",
    "do\n",
    "    for order in {1..6}\n",
    "    do\n",
    "        ngramcount --order=$order \\\n",
    "            \"$far_path/trn_(mincut_$min_cut).t.far\" \\\n",
    "            \"$ngram_path/trn_(mincut_$min_cut)_(order_$order).t.cnt\"\n",
    "  \n",
    "        for method in \"absolute\" \"katz\" \"kneser_ney\" \"presmoothed\" \"unsmoothed\" \"witten_bell\"\n",
    "        do\n",
    "            ngrammake --method=$method \\\n",
    "                \"$ngram_path/trn_(mincut_$min_cut)_(order_$order).t.cnt\" \\\n",
    "                \"$lm_path/t_(mincut_$min_cut)_(order_$order)_($method).lm\"\n",
    "        done\n",
    "    done\n",
    "done\n",
    "\n",
    "echo \"LM models created.\""
   ]
  },
  {
   "cell_type": "markdown",
   "metadata": {},
   "source": [
    "### MLE Estimator using HMM\n",
    "\n",
    "As we want to do the concept tagging task using HMM we have to create a MLE pipeline to take the observations into account. For the bigram case the pipeline would be:\n",
    "\n",
    "$$\\lambda = \\lambda_{W} \\circ \\lambda_{W2T_{MLE}} \\circ \\lambda_{LM_{2}}$$\n",
    "\n",
    "The $\\lambda_{LM_{2}}$ provides the transition probabilities and the $\\lambda_{W2T_{MLE}}$ which we are going to implement provides emission probabilities.\n",
    "\n",
    "To have a **Baseline** this configuration set is selected:\n",
    "* Input CutOff: 2\n",
    "* Output CutOff: 2\n",
    "* Ngram Size: 1\n",
    "* Ngram Smoothing: No Smoothing"
   ]
  },
  {
   "cell_type": "code",
   "execution_count": 38,
   "metadata": {},
   "outputs": [],
   "source": [
    "%%bash\n",
    "sym_path='syms'\n",
    "far_path='far'\n",
    "ngram_path='ngram'\n",
    "lm_path='lm'\n",
    "w2tmle_path='w2t_mle'\n",
    "\n",
    "[ -d $w2tmle_path ] && echo \"$w2tmle_path already exists\" || mkdir $w2tmle_path\n",
    "\n",
    "icut=2\n",
    "ocut=2\n",
    "order=1\n",
    "smoothing='unsmoothed'\n",
    "\n",
    "cat \"$sym_path/isyms_(mincut_$icut).txt\" \"$sym_path/osyms_(mincut_$ocut).t.txt\" | cut -f 1 | sort | uniq > \"$sym_path/msyms.m.lst.txt\"\n",
    "\n",
    "ngramsymbols --OOV_symbol='<unk>' \"$sym_path/msyms.m.lst.txt\" \"$sym_path/msyms.t.txt\"\n",
    "\n",
    "# let's convert data to ngrams\n",
    "cat trn.conll | sed '/^$/d' | awk '{print $2,$1}' > $w2tmle_path/trn.w2t.txt\n",
    "\n",
    "# compile to far\n",
    "farcompilestrings \\\n",
    "    --symbols=$sym_path/msyms.t.txt \\\n",
    "    --keep_symbols \\\n",
    "    --unknown_symbol='<unk>' \\\n",
    "    $w2tmle_path/trn.w2t.txt $w2tmle_path/trn.w2t.far\n",
    "    \n",
    "# count bigrams\n",
    "ngramcount --order=2 $w2tmle_path/trn.w2t.far $w2tmle_path/trn.w2t.cnt\n",
    "# make a model\n",
    "ngrammake $w2tmle_path/trn.w2t.cnt $w2tmle_path/trn.w2t.lm\n",
    "\n",
    "# print ngram probabilities as negative logs\n",
    "ngramprint \\\n",
    "    --symbols=$sym_path/msyms.t.txt\\\n",
    "    --negativelogs \\\n",
    "    $w2tmle_path/trn.w2t.lm $w2tmle_path/trn.w2t.probs"
   ]
  },
  {
   "cell_type": "markdown",
   "metadata": {},
   "source": [
    "Now we have to convert probabilities into a FST."
   ]
  },
  {
   "cell_type": "code",
   "execution_count": 39,
   "metadata": {},
   "outputs": [],
   "source": [
    "def make_w2t_mle(probs, out='w2t_mle.tmp'):\n",
    "    special = {'<epsilon>', '<s>', '</s>'}\n",
    "    oov = '<unk>'  # unknown symbol\n",
    "    state = '0'    # wfst specification state\n",
    "    fs = \" \"       # wfst specification column separator\n",
    "    otag = 'O'\n",
    "    mcn = 3        # minimum column number\n",
    "    \n",
    "    lines = [line.strip().split(\"\\t\") for line in open(probs, 'r')]\n",
    "\n",
    "    with open(out, 'w') as f:\n",
    "        for line in lines:\n",
    "            ngram = line[0]\n",
    "            ngram_words = ngram.split()  # by space\n",
    "            if len(ngram_words) == 2:\n",
    "                if set(ngram_words).isdisjoint(set(special)):\n",
    "                    if ngram_words[0] in [otag, oov]:\n",
    "                        f.write(fs.join([state, state] + ngram_words + [line[1]]) + \"\\n\")\n",
    "                    elif ngram_words[0].startswith(\"B-\") or ngram_words[0].startswith(\"I-\"):\n",
    "                        f.write(fs.join([state, state] + line) + \"\\n\")\n",
    "        f.write(state + \"\\n\")"
   ]
  },
  {
   "cell_type": "code",
   "execution_count": 40,
   "metadata": {},
   "outputs": [],
   "source": [
    "sym_path='syms'\n",
    "far_path='far'\n",
    "ngram_path='ngram'\n",
    "lm_path='lm'\n",
    "w2tmle_path='w2t_mle'\n",
    "\n",
    "make_w2t_mle(os.path.join(w2tmle_path,'trn.w2t.probs'), out=os.path.join(w2tmle_path,'trn.w2t_mle.txt'))"
   ]
  },
  {
   "cell_type": "code",
   "execution_count": 41,
   "metadata": {},
   "outputs": [
    {
     "name": "stdout",
     "output_type": "stream",
     "text": [
      "fst type                                          vector\n",
      "arc type                                          standard\n",
      "input symbol table                                syms/isyms_(mincut_2).txt\n",
      "output symbol table                               syms/osyms_(mincut_2).t.txt\n",
      "# of states                                       1\n",
      "# of arcs                                         1513\n",
      "initial state                                     0\n",
      "# of final states                                 1\n"
     ]
    }
   ],
   "source": [
    "%%bash\n",
    "sym_path='syms'\n",
    "far_path='far'\n",
    "ngram_path='ngram'\n",
    "lm_path='lm'\n",
    "w2tmle_path='w2t_mle'\n",
    "\n",
    "icut=2\n",
    "ocut=2\n",
    "order=1\n",
    "smoothing='unsmoothed'\n",
    "\n",
    "fstcompile \\\n",
    "    --isymbols=\"$sym_path/osyms_(mincut_$ocut).t.txt\" \\\n",
    "    --osymbols=\"$sym_path/isyms_(mincut_$icut).txt\" \\\n",
    "    --keep_isymbols \\\n",
    "    --keep_osymbols \\\n",
    "    $w2tmle_path/trn.w2t_mle.txt $w2tmle_path/w2t_mle.bin\n",
    "    \n",
    "# we need to invert it to have words on input\n",
    "fstinvert $w2tmle_path/w2t_mle.bin $w2tmle_path/w2t_mle.inv.bin\n",
    "\n",
    "fstinfo $w2tmle_path/w2t_mle.inv.bin | head -n 8"
   ]
  },
  {
   "cell_type": "markdown",
   "metadata": {},
   "source": [
    "Now Let's test one sample sentence. We have to first extract the Test FAR into a folder and copy one sample of it."
   ]
  },
  {
   "cell_type": "code",
   "execution_count": 42,
   "metadata": {},
   "outputs": [
    {
     "name": "stdout",
     "output_type": "stream",
     "text": [
      "0\t1\tstar\tstar\n",
      "1\t2\tof\tof\n",
      "2\t3\t<unk>\t<unk>\n",
      "3\n"
     ]
    }
   ],
   "source": [
    "%%bash\n",
    "sym_path='syms'\n",
    "far_path='far'\n",
    "ngram_path='ngram'\n",
    "lm_path='lm'\n",
    "w2tmle_path='w2t_mle'\n",
    "\n",
    "icut=2\n",
    "ocut=2\n",
    "order=1\n",
    "smoothing='unsmoothed'\n",
    "\n",
    "wdir='wdir'\n",
    "mkdir -p $wdir\n",
    "\n",
    "farextract --filename_prefix=\"$wdir/\" \"$far_path/tst_(mincut_$icut).far\"\n",
    "\n",
    "cp \"$wdir/tst.txt-0001\" sent.fsa\n",
    "\n",
    "fstprint --isymbols=\"$sym_path/isyms_(mincut_$icut).txt\" sent.fsa "
   ]
  },
  {
   "cell_type": "code",
   "execution_count": 43,
   "metadata": {},
   "outputs": [
    {
     "name": "stdout",
     "output_type": "stream",
     "text": [
      "0\t1\tstar\tB-movie.name\t6.09388542\n",
      "1\t2\tof\tO\t3.86926198\n",
      "2\t3\t<unk>\tO\t4.46324492\n",
      "3\t2.00510979\n"
     ]
    }
   ],
   "source": [
    "%%bash\n",
    "sym_path='syms'\n",
    "far_path='far'\n",
    "ngram_path='ngram'\n",
    "lm_path='lm'\n",
    "w2tmle_path='w2t_mle'\n",
    "\n",
    "icut=2\n",
    "ocut=2\n",
    "order=1\n",
    "smoothing='unsmoothed'\n",
    "\n",
    "fstcompose sent.fsa $w2tmle_path/w2t_mle.inv.bin | fstcompose - \"$lm_path/t_(mincut_$ocut)_(order_$order)_($smoothing).lm\" | fstshortestpath | fstrmepsilon | fsttopsort | fstprint"
   ]
  },
  {
   "cell_type": "markdown",
   "metadata": {},
   "source": [
    "### Evaluate Baseline\n",
    "\n",
    "The Baseline to be tested has the following settings as mentioned before:\n",
    "\n",
    "* Input CutOff: 2\n",
    "* Output CutOff: 2\n",
    "* Ngram Size: 1\n",
    "* Ngram Smoothing: No Smoothing\n",
    "\n",
    "First we evaluate a Pipeline with this settings and then we will assess the other configurations to select the best one.\n",
    "For this Evaluation the `tst.conll` will be used as Test set. We have already implemented a function to read the `.conll` file. However, another function is needed to  convert our FST output to python usable corpus. Therefore, `read_fst4conll` provided in lab sessions is used.\n",
    "To compare the FST output and tst file, the `evaluate` method of provided `conll` library is used."
   ]
  },
  {
   "cell_type": "code",
   "execution_count": 44,
   "metadata": {},
   "outputs": [],
   "source": [
    "%%bash\n",
    "\n",
    "wdir='wdir'\n",
    "sym_path='syms'\n",
    "far_path='far'\n",
    "ngram_path='ngram'\n",
    "lm_path='lm'\n",
    "w2tmle_path='w2t_mle'\n",
    "\n",
    "icut=2\n",
    "ocut=2\n",
    "order=1\n",
    "smoothing='unsmoothed'\n",
    "\n",
    "\n",
    "farr=($(ls $wdir))\n",
    "\n",
    "for f in ${farr[@]}\n",
    "do\n",
    "    fstcompose $wdir/$f $w2tmle_path/w2t_mle.inv.bin | \\\n",
    "    fstcompose - \"$lm_path/t_(mincut_$ocut)_(order_$order)_($smoothing).lm\" | \\\n",
    "        fstshortestpath | fstrmepsilon | fsttopsort | fstprint --isymbols=\"$sym_path/isyms_(mincut_$icut).txt\" \n",
    "done > $w2tmle_path/w2t_mle.inv.out"
   ]
  },
  {
   "cell_type": "code",
   "execution_count": 45,
   "metadata": {},
   "outputs": [],
   "source": [
    "def read_fst4conll(fst_file, fs=\"\\t\", oov='<unk>', otag='O', sep='+', split=False):\n",
    "    \"\"\"\n",
    "    :param corpus_file: corpus in conll format\n",
    "    :param fs: field separator\n",
    "    :param oov: token to map to otag (we need to get rid of <unk> in labels)\n",
    "    :param otag: otag symbol\n",
    "    :param sep: \n",
    "    :param split:\n",
    "    :return: corpus \n",
    "    \"\"\"\n",
    "    sents = []  # list to hold words list sequences\n",
    "    words = []  # list to hold feature tuples\n",
    "\n",
    "    for line in open(fst_file):\n",
    "        line = line.strip()\n",
    "        if len(line.strip()) > 0:\n",
    "            feats = tuple(line.strip().split(fs))\n",
    "            # arc has minimum 3 columns, else final state\n",
    "            if len(feats) >= 3:\n",
    "                ist = feats[2]  # 3rd column (input)\n",
    "                ost = feats[3]  # 4th column (output)\n",
    "                # replace '<unk>' with 'O'\n",
    "                ost = otag if ost == oov else ost\n",
    "                # ignore for now\n",
    "                ost = ost.split(sep)[1] if split and ost != otag else ost\n",
    "                \n",
    "                words.append((ist, ost))\n",
    "            else:\n",
    "                sents.append(words)\n",
    "                words = []\n",
    "        else:\n",
    "            if len(words) > 0:\n",
    "                sents.append(words) \n",
    "                words = []\n",
    "    return sents"
   ]
  },
  {
   "cell_type": "code",
   "execution_count": 46,
   "metadata": {},
   "outputs": [
    {
     "data": {
      "text/html": [
       "<div>\n",
       "<style scoped>\n",
       "    .dataframe tbody tr th:only-of-type {\n",
       "        vertical-align: middle;\n",
       "    }\n",
       "\n",
       "    .dataframe tbody tr th {\n",
       "        vertical-align: top;\n",
       "    }\n",
       "\n",
       "    .dataframe thead th {\n",
       "        text-align: right;\n",
       "    }\n",
       "</style>\n",
       "<table border=\"1\" class=\"dataframe\">\n",
       "  <thead>\n",
       "    <tr style=\"text-align: right;\">\n",
       "      <th></th>\n",
       "      <th>p</th>\n",
       "      <th>r</th>\n",
       "      <th>f</th>\n",
       "      <th>s</th>\n",
       "    </tr>\n",
       "  </thead>\n",
       "  <tbody>\n",
       "    <tr>\n",
       "      <th>movie.language</th>\n",
       "      <td>0.781</td>\n",
       "      <td>0.725</td>\n",
       "      <td>0.752</td>\n",
       "      <td>69</td>\n",
       "    </tr>\n",
       "    <tr>\n",
       "      <th>producer.name</th>\n",
       "      <td>0.678</td>\n",
       "      <td>0.548</td>\n",
       "      <td>0.606</td>\n",
       "      <td>73</td>\n",
       "    </tr>\n",
       "    <tr>\n",
       "      <th>movie.genre</th>\n",
       "      <td>0.931</td>\n",
       "      <td>0.750</td>\n",
       "      <td>0.831</td>\n",
       "      <td>36</td>\n",
       "    </tr>\n",
       "    <tr>\n",
       "      <th>movie.release_region</th>\n",
       "      <td>1.000</td>\n",
       "      <td>0.000</td>\n",
       "      <td>0.000</td>\n",
       "      <td>4</td>\n",
       "    </tr>\n",
       "    <tr>\n",
       "      <th>actor.nationality</th>\n",
       "      <td>1.000</td>\n",
       "      <td>0.000</td>\n",
       "      <td>0.000</td>\n",
       "      <td>1</td>\n",
       "    </tr>\n",
       "    <tr>\n",
       "      <th>director.name</th>\n",
       "      <td>0.543</td>\n",
       "      <td>0.617</td>\n",
       "      <td>0.578</td>\n",
       "      <td>81</td>\n",
       "    </tr>\n",
       "    <tr>\n",
       "      <th>movie.release_date</th>\n",
       "      <td>0.262</td>\n",
       "      <td>0.379</td>\n",
       "      <td>0.310</td>\n",
       "      <td>29</td>\n",
       "    </tr>\n",
       "    <tr>\n",
       "      <th>movie.type</th>\n",
       "      <td>1.000</td>\n",
       "      <td>0.000</td>\n",
       "      <td>0.000</td>\n",
       "      <td>4</td>\n",
       "    </tr>\n",
       "    <tr>\n",
       "      <th>character.name</th>\n",
       "      <td>0.625</td>\n",
       "      <td>0.333</td>\n",
       "      <td>0.435</td>\n",
       "      <td>15</td>\n",
       "    </tr>\n",
       "    <tr>\n",
       "      <th>person.name</th>\n",
       "      <td>0.300</td>\n",
       "      <td>0.265</td>\n",
       "      <td>0.281</td>\n",
       "      <td>34</td>\n",
       "    </tr>\n",
       "    <tr>\n",
       "      <th>movie.gross_revenue</th>\n",
       "      <td>0.000</td>\n",
       "      <td>0.000</td>\n",
       "      <td>0.000</td>\n",
       "      <td>5</td>\n",
       "    </tr>\n",
       "    <tr>\n",
       "      <th>award.category</th>\n",
       "      <td>1.000</td>\n",
       "      <td>0.000</td>\n",
       "      <td>0.000</td>\n",
       "      <td>2</td>\n",
       "    </tr>\n",
       "    <tr>\n",
       "      <th>actor.type</th>\n",
       "      <td>1.000</td>\n",
       "      <td>1.000</td>\n",
       "      <td>1.000</td>\n",
       "      <td>2</td>\n",
       "    </tr>\n",
       "    <tr>\n",
       "      <th>country.name</th>\n",
       "      <td>0.633</td>\n",
       "      <td>0.613</td>\n",
       "      <td>0.623</td>\n",
       "      <td>62</td>\n",
       "    </tr>\n",
       "    <tr>\n",
       "      <th>movie.subject</th>\n",
       "      <td>0.641</td>\n",
       "      <td>0.568</td>\n",
       "      <td>0.602</td>\n",
       "      <td>44</td>\n",
       "    </tr>\n",
       "    <tr>\n",
       "      <th>rating.name</th>\n",
       "      <td>0.828</td>\n",
       "      <td>0.869</td>\n",
       "      <td>0.848</td>\n",
       "      <td>61</td>\n",
       "    </tr>\n",
       "    <tr>\n",
       "      <th>movie.star_rating</th>\n",
       "      <td>1.000</td>\n",
       "      <td>0.000</td>\n",
       "      <td>0.000</td>\n",
       "      <td>1</td>\n",
       "    </tr>\n",
       "    <tr>\n",
       "      <th>award.ceremony</th>\n",
       "      <td>0.714</td>\n",
       "      <td>0.714</td>\n",
       "      <td>0.714</td>\n",
       "      <td>7</td>\n",
       "    </tr>\n",
       "    <tr>\n",
       "      <th>movie.location</th>\n",
       "      <td>0.000</td>\n",
       "      <td>0.000</td>\n",
       "      <td>0.000</td>\n",
       "      <td>7</td>\n",
       "    </tr>\n",
       "    <tr>\n",
       "      <th>actor.name</th>\n",
       "      <td>0.575</td>\n",
       "      <td>0.625</td>\n",
       "      <td>0.599</td>\n",
       "      <td>80</td>\n",
       "    </tr>\n",
       "    <tr>\n",
       "      <th>movie.name</th>\n",
       "      <td>0.481</td>\n",
       "      <td>0.550</td>\n",
       "      <td>0.513</td>\n",
       "      <td>473</td>\n",
       "    </tr>\n",
       "    <tr>\n",
       "      <th>director.nationality</th>\n",
       "      <td>1.000</td>\n",
       "      <td>0.000</td>\n",
       "      <td>0.000</td>\n",
       "      <td>1</td>\n",
       "    </tr>\n",
       "    <tr>\n",
       "      <th>total</th>\n",
       "      <td>0.549</td>\n",
       "      <td>0.573</td>\n",
       "      <td>0.561</td>\n",
       "      <td>1091</td>\n",
       "    </tr>\n",
       "  </tbody>\n",
       "</table>\n",
       "</div>"
      ],
      "text/plain": [
       "                          p      r      f     s\n",
       "movie.language        0.781  0.725  0.752    69\n",
       "producer.name         0.678  0.548  0.606    73\n",
       "movie.genre           0.931  0.750  0.831    36\n",
       "movie.release_region  1.000  0.000  0.000     4\n",
       "actor.nationality     1.000  0.000  0.000     1\n",
       "director.name         0.543  0.617  0.578    81\n",
       "movie.release_date    0.262  0.379  0.310    29\n",
       "movie.type            1.000  0.000  0.000     4\n",
       "character.name        0.625  0.333  0.435    15\n",
       "person.name           0.300  0.265  0.281    34\n",
       "movie.gross_revenue   0.000  0.000  0.000     5\n",
       "award.category        1.000  0.000  0.000     2\n",
       "actor.type            1.000  1.000  1.000     2\n",
       "country.name          0.633  0.613  0.623    62\n",
       "movie.subject         0.641  0.568  0.602    44\n",
       "rating.name           0.828  0.869  0.848    61\n",
       "movie.star_rating     1.000  0.000  0.000     1\n",
       "award.ceremony        0.714  0.714  0.714     7\n",
       "movie.location        0.000  0.000  0.000     7\n",
       "actor.name            0.575  0.625  0.599    80\n",
       "movie.name            0.481  0.550  0.513   473\n",
       "director.nationality  1.000  0.000  0.000     1\n",
       "total                 0.549  0.573  0.561  1091"
      ]
     },
     "execution_count": 46,
     "metadata": {},
     "output_type": "execute_result"
    }
   ],
   "source": [
    "refs = read_corpus_conll(tst_conll)\n",
    "hyps = read_fst4conll(os.path.join(w2tmle_path,'w2t_mle.inv.out'))\n",
    "\n",
    "results = evaluate(refs, hyps)\n",
    "\n",
    "pd_tbl = pd.DataFrame().from_dict(results, orient='index')\n",
    "pd_tbl.round(decimals=3)"
   ]
  },
  {
   "cell_type": "markdown",
   "metadata": {},
   "source": [
    "The evaluated Baseline has a $F_1$ of **0.561**, $Precision$ of **0.549** and $Recall$ of **0.573**.\n",
    "In the next chapter we will try to improve the $F_1$ by Tuning the Parameters."
   ]
  },
  {
   "cell_type": "markdown",
   "metadata": {},
   "source": [
    "### Parameter Tuning\n",
    "\n",
    "In total we have 4 parameters to evaluate.\n",
    "\n",
    "1. Ngram size\n",
    "2. Input CutOff Frequency\n",
    "3. Output CutOff Frequency\n",
    "4. Ngram Smoothing method\n",
    "\n",
    "As there are too many combinations for these parameters, and the process will take much time, we can tune the parameters one by one."
   ]
  },
  {
   "cell_type": "markdown",
   "metadata": {},
   "source": [
    "#### Ngram Size\n",
    "\n",
    "The first parameter to tune is Ngram size for $\\lambda_{LM}$. We will try Ngram orders of 1 to 6."
   ]
  },
  {
   "cell_type": "code",
   "execution_count": 47,
   "metadata": {},
   "outputs": [
    {
     "name": "stdout",
     "output_type": "stream",
     "text": [
      "w2t_mle already exists\n"
     ]
    }
   ],
   "source": [
    "%%bash\n",
    "sym_path='syms'\n",
    "far_path='far'\n",
    "ngram_path='ngram'\n",
    "lm_path='lm'\n",
    "w2tmle_path='w2t_mle'\n",
    "\n",
    "[ -d $w2tmle_path ] && echo \"$w2tmle_path already exists\" || mkdir $w2tmle_path\n",
    "\n",
    "icut=2\n",
    "ocut=2\n",
    "smoothing='unsmoothed'\n",
    "\n",
    "for order in {1..6}\n",
    "do\n",
    "    cat \"$sym_path/isyms_(mincut_$icut).txt\" \"$sym_path/osyms_(mincut_$ocut).t.txt\" | cut -f 1 | sort | uniq > \"$sym_path/msyms.m.lst.txt\"\n",
    "\n",
    "    ngramsymbols --OOV_symbol='<unk>' \"$sym_path/msyms.m.lst.txt\" \"$sym_path/msyms.t.txt\"\n",
    "\n",
    "    # let's convert data to ngrams\n",
    "    cat trn.conll | sed '/^$/d' | awk '{print $2,$1}' > \"$w2tmle_path/trn_(icut_$icut)_(ocut_$ocut)_(n_$order)_($smoothing).w2t.txt\"\n",
    "\n",
    "    # compile to far\n",
    "    farcompilestrings \\\n",
    "        --symbols=$sym_path/msyms.t.txt \\\n",
    "        --keep_symbols \\\n",
    "        --unknown_symbol='<unk>' \\\n",
    "         \"$w2tmle_path/trn_(icut_$icut)_(ocut_$ocut)_(n_$order)_($smoothing).w2t.txt\"  \"$w2tmle_path/trn_(icut_$icut)_(ocut_$ocut)_(n_$order)_($smoothing).w2t.far\"\n",
    "\n",
    "    # count bigrams\n",
    "    ngramcount --order=2  \"$w2tmle_path/trn_(icut_$icut)_(ocut_$ocut)_(n_$order)_($smoothing).w2t.far\"  \"$w2tmle_path/trn_(icut_$icut)_(ocut_$ocut)_(n_$order)_($smoothing).w2t.cnt\"\n",
    "    # make a model\n",
    "    ngrammake  \"$w2tmle_path/trn_(icut_$icut)_(ocut_$ocut)_(n_$order)_($smoothing).w2t.cnt\"  \"$w2tmle_path/trn_(icut_$icut)_(ocut_$ocut)_(n_$order)_($smoothing).w2t.lm\"\n",
    "\n",
    "    # print ngram probabilities as negative logs\n",
    "    ngramprint \\\n",
    "        --symbols=$sym_path/msyms.t.txt\\\n",
    "        --negativelogs \\\n",
    "         \"$w2tmle_path/trn_(icut_$icut)_(ocut_$ocut)_(n_$order)_($smoothing).w2t.lm\"  \"$w2tmle_path/trn_(icut_$icut)_(ocut_$ocut)_(n_$order)_($smoothing).w2t.probs\"\n",
    "done"
   ]
  },
  {
   "cell_type": "code",
   "execution_count": 48,
   "metadata": {},
   "outputs": [],
   "source": [
    "sym_path='syms'\n",
    "far_path='far'\n",
    "ngram_path='ngram'\n",
    "lm_path='lm'\n",
    "w2tmle_path='w2t_mle'\n",
    "\n",
    "icut=2\n",
    "ocut=2\n",
    "smoothing='unsmoothed'\n",
    "for order in range(1, 7):\n",
    "    make_w2t_mle(\n",
    "        os.path.join(\n",
    "            w2tmle_path,\n",
    "            'trn_(icut_{})_(ocut_{})_(n_{})_({}).w2t.probs'.format(icut, ocut, order, smoothing)\n",
    "        ),\n",
    "        out=os.path.join(\n",
    "            w2tmle_path,\n",
    "            'trn_(icut_{})_(ocut_{})_(n_{})_({}).w2t_mle.txt'.format(icut, ocut, order, smoothing)\n",
    "        )\n",
    "    )"
   ]
  },
  {
   "cell_type": "code",
   "execution_count": 49,
   "metadata": {},
   "outputs": [],
   "source": [
    "%%bash\n",
    "sym_path='syms'\n",
    "far_path='far'\n",
    "ngram_path='ngram'\n",
    "lm_path='lm'\n",
    "w2tmle_path='w2t_mle'\n",
    "\n",
    "icut=2\n",
    "ocut=2\n",
    "smoothing='unsmoothed'\n",
    "\n",
    "for order in {1..6}\n",
    "do\n",
    "    fstcompile \\\n",
    "        --isymbols=\"$sym_path/osyms_(mincut_$ocut).t.txt\" \\\n",
    "        --osymbols=\"$sym_path/isyms_(mincut_$icut).txt\" \\\n",
    "        --keep_isymbols \\\n",
    "        --keep_osymbols \\\n",
    "         \"$w2tmle_path/trn_(icut_$icut)_(ocut_$ocut)_(n_$order)_($smoothing).w2t_mle.txt\"  \"$w2tmle_path/(icut_$icut)_(ocut_$ocut)_(n_$order)_($smoothing).w2t_mle.bin\"\n",
    "\n",
    "    # we need to invert it to have words on input\n",
    "    fstinvert  \"$w2tmle_path/(icut_$icut)_(ocut_$ocut)_(n_$order)_($smoothing).w2t_mle.bin\" \\\n",
    "                \"$w2tmle_path/(icut_$icut)_(ocut_$ocut)_(n_$order)_($smoothing).w2t_mle.inv.bin\"\n",
    "\n",
    "    # fstinfo \"$w2tmle_path/(icut_$icut)_(ocut_$ocut)_(n_$order)_($smoothing).w2t_mle.inv.bin\" | head -n 8\n",
    "    \n",
    "    wdir='wdir'\n",
    "    mkdir -p $wdir\n",
    "    farextract --filename_prefix=\"$wdir/\" \"$far_path/tst_(mincut_$icut).far\"\n",
    "    \n",
    "    farr=($(ls $wdir))\n",
    "\n",
    "    for f in ${farr[@]}\n",
    "    do\n",
    "        fstcompose  $wdir/$f \\\n",
    "                    \"$w2tmle_path/(icut_$icut)_(ocut_$ocut)_(n_$order)_($smoothing).w2t_mle.inv.bin\" | \\\n",
    "        fstcompose - \"$lm_path/t_(mincut_$ocut)_(order_$order)_($smoothing).lm\" | \\\n",
    "            fstshortestpath | fstrmepsilon | fsttopsort | fstprint --isymbols=\"$sym_path/isyms_(mincut_$icut).txt\" \n",
    "    done > \"$w2tmle_path/(icut_$icut)_(ocut_$ocut)_(n_$order)_($smoothing).w2t_mle.inv.out\"\n",
    "\n",
    "done"
   ]
  },
  {
   "cell_type": "code",
   "execution_count": 50,
   "metadata": {},
   "outputs": [
    {
     "data": {
      "text/html": [
       "<div>\n",
       "<style scoped>\n",
       "    .dataframe tbody tr th:only-of-type {\n",
       "        vertical-align: middle;\n",
       "    }\n",
       "\n",
       "    .dataframe tbody tr th {\n",
       "        vertical-align: top;\n",
       "    }\n",
       "\n",
       "    .dataframe thead th {\n",
       "        text-align: right;\n",
       "    }\n",
       "</style>\n",
       "<table border=\"1\" class=\"dataframe\">\n",
       "  <thead>\n",
       "    <tr style=\"text-align: right;\">\n",
       "      <th></th>\n",
       "      <th>N=1</th>\n",
       "      <th>N=2</th>\n",
       "      <th>N=3</th>\n",
       "      <th>N=4</th>\n",
       "      <th>N=5</th>\n",
       "      <th>N=6</th>\n",
       "    </tr>\n",
       "  </thead>\n",
       "  <tbody>\n",
       "    <tr>\n",
       "      <th>Recall</th>\n",
       "      <td>0.572869</td>\n",
       "      <td>0.724106</td>\n",
       "      <td>0.718607</td>\n",
       "      <td>0.722273</td>\n",
       "      <td>0.720440</td>\n",
       "      <td>0.726856</td>\n",
       "    </tr>\n",
       "    <tr>\n",
       "      <th>Precision</th>\n",
       "      <td>0.549209</td>\n",
       "      <td>0.726103</td>\n",
       "      <td>0.714676</td>\n",
       "      <td>0.714415</td>\n",
       "      <td>0.724424</td>\n",
       "      <td>0.721565</td>\n",
       "    </tr>\n",
       "    <tr>\n",
       "      <th>F1</th>\n",
       "      <td>0.560790</td>\n",
       "      <td>0.725103</td>\n",
       "      <td>0.716636</td>\n",
       "      <td>0.718323</td>\n",
       "      <td>0.722426</td>\n",
       "      <td>0.724201</td>\n",
       "    </tr>\n",
       "  </tbody>\n",
       "</table>\n",
       "</div>"
      ],
      "text/plain": [
       "                N=1       N=2       N=3       N=4       N=5       N=6\n",
       "Recall     0.572869  0.724106  0.718607  0.722273  0.720440  0.726856\n",
       "Precision  0.549209  0.726103  0.714676  0.714415  0.724424  0.721565\n",
       "F1         0.560790  0.725103  0.716636  0.718323  0.722426  0.724201"
      ]
     },
     "metadata": {},
     "output_type": "display_data"
    },
    {
     "data": {
      "image/png": "[encoded data removed]",
      "text/plain": [
       "<Figure size 720x720 with 3 Axes>"
      ]
     },
     "metadata": {
      "needs_background": "light"
     },
     "output_type": "display_data"
    }
   ],
   "source": [
    "icut = 2\n",
    "ocut = 2\n",
    "smoothing = 'unsmoothed'\n",
    "\n",
    "recall = []\n",
    "precision = []\n",
    "f1 = []\n",
    "for order in range(1, 7):\n",
    "    refs = read_corpus_conll(tst_conll)\n",
    "    hyps = read_fst4conll(os.path.join(\n",
    "        w2tmle_path, '(icut_{})_(ocut_{})_(n_{})_({}).w2t_mle.inv.out'.format(icut, ocut, order, smoothing)))\n",
    "    results = evaluate(refs, hyps)\n",
    "\n",
    "    recall.append(results['total']['r'])\n",
    "    precision.append(results['total']['p'])\n",
    "    f1.append(results['total']['f'])\n",
    "\n",
    "fig, axs = plt.subplots(3, 1, figsize=(10, 10))\n",
    "axs[0].plot(range(1, 7), f1)\n",
    "axs[1].plot(range(1, 7), recall)\n",
    "axs[2].plot(range(1, 7), precision)\n",
    "axs[2].set_xlabel('Size of Ngram')\n",
    "axs[0].set_ylabel('F1')\n",
    "axs[1].set_ylabel('Recall')\n",
    "axs[2].set_ylabel('Precision')\n",
    "\n",
    "df = pd.DataFrame([recall, precision, f1], columns=[\n",
    "                  'N=1', 'N=2', 'N=3', 'N=4', 'N=5', 'N=6'], index=['Recall', 'Precision', 'F1'])\n",
    "display(df)"
   ]
  },
  {
   "cell_type": "markdown",
   "metadata": {},
   "source": [
    "Among the tested Ngram orders, the best F1 and Precision achieved by using an Ngram of order 2. However, the Recall is slightly better using N=6.\n",
    "In the case of N=2, the F1 equals 72.51%, the Recall is 72.41%, and Precision is 72.61%. During the following tests the N will be fixed to 2."
   ]
  },
  {
   "cell_type": "markdown",
   "metadata": {},
   "source": [
    "#### Smoothing Method\n",
    "\n",
    "Using the best Ngram order found, which is 2, we will try to find the best Ngram smoothing method. In following evaluation the input and output cutoff frequency will be fixed to 2."
   ]
  },
  {
   "cell_type": "code",
   "execution_count": 51,
   "metadata": {},
   "outputs": [
    {
     "name": "stdout",
     "output_type": "stream",
     "text": [
      "w2t_mle already exists\n"
     ]
    }
   ],
   "source": [
    "%%bash\n",
    "sym_path='syms'\n",
    "far_path='far'\n",
    "ngram_path='ngram'\n",
    "lm_path='lm'\n",
    "w2tmle_path='w2t_mle'\n",
    "\n",
    "[ -d $w2tmle_path ] && echo \"$w2tmle_path already exists\" || mkdir $w2tmle_path\n",
    "\n",
    "icut=2\n",
    "ocut=2\n",
    "order=2\n",
    "\n",
    "for smoothing in \"absolute\" \"katz\" \"kneser_ney\" \"presmoothed\" \"unsmoothed\" \"witten_bell\"\n",
    "do\n",
    "    cat \"$sym_path/isyms_(mincut_$icut).txt\" \"$sym_path/osyms_(mincut_$ocut).t.txt\" | cut -f 1 | sort | uniq > \"$sym_path/msyms.m.lst.txt\"\n",
    "\n",
    "    ngramsymbols --OOV_symbol='<unk>' \"$sym_path/msyms.m.lst.txt\" \"$sym_path/msyms.t.txt\"\n",
    "\n",
    "    # let's convert data to ngrams\n",
    "    cat trn.conll | sed '/^$/d' | awk '{print $2,$1}' > \"$w2tmle_path/trn_(icut_$icut)_(ocut_$ocut)_(n_$order)_($smoothing).w2t.txt\"\n",
    "\n",
    "    # compile to far\n",
    "    farcompilestrings \\\n",
    "        --symbols=$sym_path/msyms.t.txt \\\n",
    "        --keep_symbols \\\n",
    "        --unknown_symbol='<unk>' \\\n",
    "         \"$w2tmle_path/trn_(icut_$icut)_(ocut_$ocut)_(n_$order)_($smoothing).w2t.txt\"  \"$w2tmle_path/trn_(icut_$icut)_(ocut_$ocut)_(n_$order)_($smoothing).w2t.far\"\n",
    "\n",
    "    # count bigrams\n",
    "    ngramcount --order=2  \"$w2tmle_path/trn_(icut_$icut)_(ocut_$ocut)_(n_$order)_($smoothing).w2t.far\"  \"$w2tmle_path/trn_(icut_$icut)_(ocut_$ocut)_(n_$order)_($smoothing).w2t.cnt\"\n",
    "    # make a model\n",
    "    ngrammake  \"$w2tmle_path/trn_(icut_$icut)_(ocut_$ocut)_(n_$order)_($smoothing).w2t.cnt\"  \"$w2tmle_path/trn_(icut_$icut)_(ocut_$ocut)_(n_$order)_($smoothing).w2t.lm\"\n",
    "\n",
    "    # print ngram probabilities as negative logs\n",
    "    ngramprint \\\n",
    "        --symbols=$sym_path/msyms.t.txt\\\n",
    "        --negativelogs \\\n",
    "         \"$w2tmle_path/trn_(icut_$icut)_(ocut_$ocut)_(n_$order)_($smoothing).w2t.lm\"  \"$w2tmle_path/trn_(icut_$icut)_(ocut_$ocut)_(n_$order)_($smoothing).w2t.probs\"\n",
    "done"
   ]
  },
  {
   "cell_type": "code",
   "execution_count": 52,
   "metadata": {},
   "outputs": [],
   "source": [
    "sym_path = 'syms'\n",
    "far_path = 'far'\n",
    "ngram_path = 'ngram'\n",
    "lm_path = 'lm'\n",
    "w2tmle_path = 'w2t_mle'\n",
    "\n",
    "icut = 2\n",
    "ocut = 2\n",
    "order = 2\n",
    "for smoothing in [\"absolute\", \"katz\", \"kneser_ney\", \"presmoothed\", \"unsmoothed\", \"witten_bell\"]:\n",
    "    make_w2t_mle(\n",
    "        os.path.join(\n",
    "            w2tmle_path,\n",
    "            'trn_(icut_{})_(ocut_{})_(n_{})_({}).w2t.probs'.format(\n",
    "                icut, ocut, order, smoothing)\n",
    "        ),\n",
    "        out=os.path.join(\n",
    "            w2tmle_path,\n",
    "            'trn_(icut_{})_(ocut_{})_(n_{})_({}).w2t_mle.txt'.format(\n",
    "                icut, ocut, order, smoothing)\n",
    "        )\n",
    "    )"
   ]
  },
  {
   "cell_type": "code",
   "execution_count": 53,
   "metadata": {},
   "outputs": [],
   "source": [
    "%%bash\n",
    "sym_path='syms'\n",
    "far_path='far'\n",
    "ngram_path='ngram'\n",
    "lm_path='lm'\n",
    "w2tmle_path='w2t_mle'\n",
    "\n",
    "icut=2\n",
    "ocut=2\n",
    "order=2\n",
    "\n",
    "for smoothing in \"absolute\" \"katz\" \"kneser_ney\" \"presmoothed\" \"unsmoothed\" \"witten_bell\"\n",
    "do\n",
    "    fstcompile \\\n",
    "        --isymbols=\"$sym_path/osyms_(mincut_$ocut).t.txt\" \\\n",
    "        --osymbols=\"$sym_path/isyms_(mincut_$icut).txt\" \\\n",
    "        --keep_isymbols \\\n",
    "        --keep_osymbols \\\n",
    "         \"$w2tmle_path/trn_(icut_$icut)_(ocut_$ocut)_(n_$order)_($smoothing).w2t_mle.txt\"  \"$w2tmle_path/(icut_$icut)_(ocut_$ocut)_(n_$order)_($smoothing).w2t_mle.bin\"\n",
    "\n",
    "    # we need to invert it to have words on input\n",
    "    fstinvert  \"$w2tmle_path/(icut_$icut)_(ocut_$ocut)_(n_$order)_($smoothing).w2t_mle.bin\" \\\n",
    "                \"$w2tmle_path/(icut_$icut)_(ocut_$ocut)_(n_$order)_($smoothing).w2t_mle.inv.bin\"\n",
    "\n",
    "    # fstinfo \"$w2tmle_path/(icut_$icut)_(ocut_$ocut)_(n_$order)_($smoothing).w2t_mle.inv.bin\" | head -n 8\n",
    "    \n",
    "    wdir='wdir'\n",
    "    mkdir -p $wdir\n",
    "    farextract --filename_prefix=\"$wdir/\" \"$far_path/tst_(mincut_$icut).far\"\n",
    "    \n",
    "    farr=($(ls $wdir))\n",
    "\n",
    "    for f in ${farr[@]}\n",
    "    do\n",
    "        fstcompose  $wdir/$f \\\n",
    "                    \"$w2tmle_path/(icut_$icut)_(ocut_$ocut)_(n_$order)_($smoothing).w2t_mle.inv.bin\" | \\\n",
    "        fstcompose - \"$lm_path/t_(mincut_$ocut)_(order_$order)_($smoothing).lm\" | \\\n",
    "            fstshortestpath | fstrmepsilon | fsttopsort | fstprint --isymbols=\"$sym_path/isyms_(mincut_$icut).txt\" \n",
    "    done > \"$w2tmle_path/(icut_$icut)_(ocut_$ocut)_(n_$order)_($smoothing).w2t_mle.inv.out\"\n",
    "\n",
    "done"
   ]
  },
  {
   "cell_type": "code",
   "execution_count": 54,
   "metadata": {},
   "outputs": [
    {
     "data": {
      "text/html": [
       "<div>\n",
       "<style scoped>\n",
       "    .dataframe tbody tr th:only-of-type {\n",
       "        vertical-align: middle;\n",
       "    }\n",
       "\n",
       "    .dataframe tbody tr th {\n",
       "        vertical-align: top;\n",
       "    }\n",
       "\n",
       "    .dataframe thead th {\n",
       "        text-align: right;\n",
       "    }\n",
       "</style>\n",
       "<table border=\"1\" class=\"dataframe\">\n",
       "  <thead>\n",
       "    <tr style=\"text-align: right;\">\n",
       "      <th></th>\n",
       "      <th>witten_bell</th>\n",
       "      <th>absolute</th>\n",
       "      <th>katz</th>\n",
       "      <th>kneser_ney</th>\n",
       "      <th>presmoothed</th>\n",
       "      <th>unsmoothed</th>\n",
       "    </tr>\n",
       "  </thead>\n",
       "  <tbody>\n",
       "    <tr>\n",
       "      <th>Recall</th>\n",
       "      <td>0.725940</td>\n",
       "      <td>0.725940</td>\n",
       "      <td>0.723190</td>\n",
       "      <td>0.724106</td>\n",
       "      <td>0.725023</td>\n",
       "      <td>0.724106</td>\n",
       "    </tr>\n",
       "    <tr>\n",
       "      <th>Precision</th>\n",
       "      <td>0.727273</td>\n",
       "      <td>0.727273</td>\n",
       "      <td>0.724518</td>\n",
       "      <td>0.726103</td>\n",
       "      <td>0.727022</td>\n",
       "      <td>0.726103</td>\n",
       "    </tr>\n",
       "    <tr>\n",
       "      <th>F1</th>\n",
       "      <td>0.726606</td>\n",
       "      <td>0.726606</td>\n",
       "      <td>0.723853</td>\n",
       "      <td>0.725103</td>\n",
       "      <td>0.726021</td>\n",
       "      <td>0.725103</td>\n",
       "    </tr>\n",
       "  </tbody>\n",
       "</table>\n",
       "</div>"
      ],
      "text/plain": [
       "           witten_bell  absolute      katz  kneser_ney  presmoothed  \\\n",
       "Recall        0.725940  0.725940  0.723190    0.724106     0.725023   \n",
       "Precision     0.727273  0.727273  0.724518    0.726103     0.727022   \n",
       "F1            0.726606  0.726606  0.723853    0.725103     0.726021   \n",
       "\n",
       "           unsmoothed  \n",
       "Recall       0.724106  \n",
       "Precision    0.726103  \n",
       "F1           0.725103  "
      ]
     },
     "metadata": {},
     "output_type": "display_data"
    },
    {
     "data": {
      "image/png": "[encoded data removed]",
      "text/plain": [
       "<Figure size 720x360 with 1 Axes>"
      ]
     },
     "metadata": {
      "needs_background": "light"
     },
     "output_type": "display_data"
    }
   ],
   "source": [
    "icut = 2\n",
    "ocut = 2\n",
    "order = 2\n",
    "\n",
    "recall = []\n",
    "precision = []\n",
    "f1 = []\n",
    "\n",
    "smoothing_methods = [ \"witten_bell\", \"absolute\", \"katz\", \"kneser_ney\", \"presmoothed\", \"unsmoothed\"]\n",
    "for smoothing in smoothing_methods:\n",
    "    refs = read_corpus_conll(tst_conll)\n",
    "    hyps = read_fst4conll(os.path.join(\n",
    "        w2tmle_path, '(icut_{})_(ocut_{})_(n_{})_({}).w2t_mle.inv.out'.format(icut, ocut, order, smoothing)))\n",
    "    results = evaluate(refs, hyps)\n",
    "\n",
    "    recall.append(results['total']['r'])\n",
    "    precision.append(results['total']['p'])\n",
    "    f1.append(results['total']['f'])\n",
    "\n",
    "plt.figure(figsize=(10,5))\n",
    "plt.plot(smoothing_methods, f1 , label='F1')\n",
    "plt.plot(smoothing_methods, recall , label='Recall')\n",
    "plt.plot(smoothing_methods, precision , label='Precision')\n",
    "plt.legend()\n",
    "\n",
    "df = pd.DataFrame([recall, precision, f1], columns=smoothing_methods, index=['Recall', 'Precision', 'F1'])\n",
    "display(df)"
   ]
  },
  {
   "cell_type": "markdown",
   "metadata": {},
   "source": [
    "Both `witten_bell` and `absolute` smoothing methods preform the same. With F1=72.66%, Recall=72.59%, and Precision=72.72%. Therefore, there is no difference between them in our point of view. The `witten_bell` will be used as the smoothing method from now on."
   ]
  },
  {
   "cell_type": "markdown",
   "metadata": {},
   "source": [
    "#### CutOff Frequencies\n",
    "\n",
    "Now that we have fixed two parameters, Ngram Order and smoothing method, we can evaluate all combinations of cutoff frequencies for Tokens and Tags. We will assess the cutoff thresholds between 2 and 6."
   ]
  },
  {
   "cell_type": "code",
   "execution_count": 55,
   "metadata": {},
   "outputs": [
    {
     "name": "stdout",
     "output_type": "stream",
     "text": [
      "w2t_mle already exists\n"
     ]
    }
   ],
   "source": [
    "%%bash\n",
    "sym_path='syms'\n",
    "far_path='far'\n",
    "ngram_path='ngram'\n",
    "lm_path='lm'\n",
    "w2tmle_path='w2t_mle'\n",
    "\n",
    "[ -d $w2tmle_path ] && echo \"$w2tmle_path already exists\" || mkdir $w2tmle_path\n",
    "\n",
    "order=2\n",
    "smoothing=\"witten_bell\"\n",
    "\n",
    "for icut in {2..6}\n",
    "do\n",
    "    for ocut in {2..6}\n",
    "    do\n",
    "        cat \"$sym_path/isyms_(mincut_$icut).txt\" \"$sym_path/osyms_(mincut_$ocut).t.txt\" | cut -f 1 | sort | uniq > \"$sym_path/msyms.m.lst.txt\"\n",
    "\n",
    "        ngramsymbols --OOV_symbol='<unk>' \"$sym_path/msyms.m.lst.txt\" \"$sym_path/msyms.t.txt\"\n",
    "\n",
    "        # let's convert data to ngrams\n",
    "        cat trn.conll | sed '/^$/d' | awk '{print $2,$1}' > \"$w2tmle_path/trn_(icut_$icut)_(ocut_$ocut)_(n_$order)_($smoothing).w2t.txt\"\n",
    "\n",
    "        # compile to far\n",
    "        farcompilestrings \\\n",
    "            --symbols=$sym_path/msyms.t.txt \\\n",
    "            --keep_symbols \\\n",
    "            --unknown_symbol='<unk>' \\\n",
    "             \"$w2tmle_path/trn_(icut_$icut)_(ocut_$ocut)_(n_$order)_($smoothing).w2t.txt\"  \"$w2tmle_path/trn_(icut_$icut)_(ocut_$ocut)_(n_$order)_($smoothing).w2t.far\"\n",
    "\n",
    "        # count bigrams\n",
    "        ngramcount --order=2  \"$w2tmle_path/trn_(icut_$icut)_(ocut_$ocut)_(n_$order)_($smoothing).w2t.far\"  \"$w2tmle_path/trn_(icut_$icut)_(ocut_$ocut)_(n_$order)_($smoothing).w2t.cnt\"\n",
    "        # make a model\n",
    "        ngrammake  \"$w2tmle_path/trn_(icut_$icut)_(ocut_$ocut)_(n_$order)_($smoothing).w2t.cnt\"  \"$w2tmle_path/trn_(icut_$icut)_(ocut_$ocut)_(n_$order)_($smoothing).w2t.lm\"\n",
    "\n",
    "        # print ngram probabilities as negative logs\n",
    "        ngramprint \\\n",
    "            --symbols=$sym_path/msyms.t.txt\\\n",
    "            --negativelogs \\\n",
    "             \"$w2tmle_path/trn_(icut_$icut)_(ocut_$ocut)_(n_$order)_($smoothing).w2t.lm\"  \"$w2tmle_path/trn_(icut_$icut)_(ocut_$ocut)_(n_$order)_($smoothing).w2t.probs\"\n",
    "    done\n",
    "done"
   ]
  },
  {
   "cell_type": "code",
   "execution_count": 56,
   "metadata": {},
   "outputs": [],
   "source": [
    "sym_path = 'syms'\n",
    "far_path = 'far'\n",
    "ngram_path = 'ngram'\n",
    "lm_path = 'lm'\n",
    "w2tmle_path = 'w2t_mle'\n",
    "\n",
    "\n",
    "order = 2\n",
    "smoothing = \"witten_bell\"\n",
    "\n",
    "for icut in range(2,7):\n",
    "    for ocut in range(2,7):\n",
    "        make_w2t_mle(\n",
    "            os.path.join(\n",
    "                w2tmle_path,\n",
    "                'trn_(icut_{})_(ocut_{})_(n_{})_({}).w2t.probs'.format(\n",
    "                    icut, ocut, order, smoothing)\n",
    "            ),\n",
    "            out=os.path.join(\n",
    "                w2tmle_path,\n",
    "                'trn_(icut_{})_(ocut_{})_(n_{})_({}).w2t_mle.txt'.format(\n",
    "                    icut, ocut, order, smoothing)\n",
    "            )\n",
    "        )"
   ]
  },
  {
   "cell_type": "code",
   "execution_count": 57,
   "metadata": {},
   "outputs": [],
   "source": [
    "%%bash\n",
    "sym_path='syms'\n",
    "far_path='far'\n",
    "ngram_path='ngram'\n",
    "lm_path='lm'\n",
    "w2tmle_path='w2t_mle'\n",
    "\n",
    "order=2\n",
    "smoothing=\"witten_bell\"\n",
    "\n",
    "for icut in {2..6}\n",
    "do\n",
    "    for ocut in {2..6}\n",
    "    do\n",
    "        fstcompile \\\n",
    "            --isymbols=\"$sym_path/osyms_(mincut_$ocut).t.txt\" \\\n",
    "            --osymbols=\"$sym_path/isyms_(mincut_$icut).txt\" \\\n",
    "            --keep_isymbols \\\n",
    "            --keep_osymbols \\\n",
    "             \"$w2tmle_path/trn_(icut_$icut)_(ocut_$ocut)_(n_$order)_($smoothing).w2t_mle.txt\"  \"$w2tmle_path/(icut_$icut)_(ocut_$ocut)_(n_$order)_($smoothing).w2t_mle.bin\"\n",
    "\n",
    "        # we need to invert it to have words on input\n",
    "        fstinvert  \"$w2tmle_path/(icut_$icut)_(ocut_$ocut)_(n_$order)_($smoothing).w2t_mle.bin\" \\\n",
    "                    \"$w2tmle_path/(icut_$icut)_(ocut_$ocut)_(n_$order)_($smoothing).w2t_mle.inv.bin\"\n",
    "\n",
    "        # fstinfo \"$w2tmle_path/(icut_$icut)_(ocut_$ocut)_(n_$order)_($smoothing).w2t_mle.inv.bin\" | head -n 8\n",
    "\n",
    "        wdir='wdir'\n",
    "        mkdir -p $wdir\n",
    "        farextract --filename_prefix=\"$wdir/\" \"$far_path/tst_(mincut_$icut).far\"\n",
    "\n",
    "        farr=($(ls $wdir))\n",
    "\n",
    "        for f in ${farr[@]}\n",
    "        do\n",
    "            fstcompose  $wdir/$f \\\n",
    "                        \"$w2tmle_path/(icut_$icut)_(ocut_$ocut)_(n_$order)_($smoothing).w2t_mle.inv.bin\" | \\\n",
    "            fstcompose - \"$lm_path/t_(mincut_$ocut)_(order_$order)_($smoothing).lm\" | \\\n",
    "                fstshortestpath | fstrmepsilon | fsttopsort | fstprint --isymbols=\"$sym_path/isyms_(mincut_$icut).txt\" \n",
    "        done > \"$w2tmle_path/(icut_$icut)_(ocut_$ocut)_(n_$order)_($smoothing).w2t_mle.inv.out\"\n",
    "\n",
    "    done\n",
    "done"
   ]
  },
  {
   "cell_type": "code",
   "execution_count": 58,
   "metadata": {
    "scrolled": true
   },
   "outputs": [
    {
     "data": {
      "image/png": "[encoded data removed]",
      "text/plain": [
       "<Figure size 720x360 with 1 Axes>"
      ]
     },
     "metadata": {
      "needs_background": "light"
     },
     "output_type": "display_data"
    }
   ],
   "source": [
    "recall = []\n",
    "precision = []\n",
    "f1 = []\n",
    "\n",
    "order = 2\n",
    "smoothing = \"witten_bell\"\n",
    "\n",
    "for icut in range(2, 7):\n",
    "    recall.append([])\n",
    "    precision.append([])\n",
    "    f1.append([])\n",
    "    for ocut in range(2, 7):\n",
    "        refs = read_corpus_conll(tst_conll)\n",
    "        hyps = read_fst4conll(os.path.join(\n",
    "            w2tmle_path, '(icut_{})_(ocut_{})_(n_{})_({}).w2t_mle.inv.out'.format(icut, ocut, order, smoothing)))\n",
    "        results = evaluate(refs, hyps)\n",
    "\n",
    "        recall[icut-2].append(results['total']['r'])\n",
    "        precision[icut-2].append(results['total']['p'])\n",
    "        f1[icut-2].append(results['total']['f'])\n",
    "\n",
    "plt.figure(figsize=(10, 5))\n",
    "for icut in range(2, 7):\n",
    "    plt.plot([2, 3, 4, 5, 6], f1[icut-2], label=\"Token CutOff={}\".format(icut))\n",
    "plt.legend()\n",
    "plt.xlabel('Tag CutOff')\n",
    "plt.ylabel('F1')\n",
    "plt.show()"
   ]
  },
  {
   "cell_type": "markdown",
   "metadata": {},
   "source": [
    "According to the above chart it is obvious that with Token Cutoff threshold equal to 2 we can achieve the best F1. Now for better comparison let's focus on Token Cutoff equal to 2."
   ]
  },
  {
   "cell_type": "code",
   "execution_count": 59,
   "metadata": {},
   "outputs": [
    {
     "data": {
      "image/png": "[encoded data removed]",
      "text/plain": [
       "<Figure size 720x360 with 1 Axes>"
      ]
     },
     "metadata": {
      "needs_background": "light"
     },
     "output_type": "display_data"
    }
   ],
   "source": [
    "plt.figure(figsize=(10, 5))\n",
    "plt.plot([2, 3, 4, 5, 6], f1[0], label=\"Token CutOff={}\".format(icut))\n",
    "plt.legend()\n",
    "plt.xlabel('Tag CutOff')\n",
    "plt.ylabel('F1')\n",
    "plt.show()"
   ]
  },
  {
   "cell_type": "markdown",
   "metadata": {},
   "source": [
    "Now we can see that for Tag CutOff the best F1 occurs at 5."
   ]
  },
  {
   "cell_type": "code",
   "execution_count": 60,
   "metadata": {},
   "outputs": [
    {
     "data": {
      "text/html": [
       "<div>\n",
       "<style scoped>\n",
       "    .dataframe tbody tr th:only-of-type {\n",
       "        vertical-align: middle;\n",
       "    }\n",
       "\n",
       "    .dataframe tbody tr th {\n",
       "        vertical-align: top;\n",
       "    }\n",
       "\n",
       "    .dataframe thead th {\n",
       "        text-align: right;\n",
       "    }\n",
       "</style>\n",
       "<table border=\"1\" class=\"dataframe\">\n",
       "  <thead>\n",
       "    <tr style=\"text-align: right;\">\n",
       "      <th></th>\n",
       "      <th>For Token_CutOff=2 and Tag_CutOff=5</th>\n",
       "    </tr>\n",
       "  </thead>\n",
       "  <tbody>\n",
       "    <tr>\n",
       "      <th>F1</th>\n",
       "      <td>0.728440</td>\n",
       "    </tr>\n",
       "    <tr>\n",
       "      <th>Recall</th>\n",
       "      <td>0.727773</td>\n",
       "    </tr>\n",
       "    <tr>\n",
       "      <th>Precision</th>\n",
       "      <td>0.729109</td>\n",
       "    </tr>\n",
       "  </tbody>\n",
       "</table>\n",
       "</div>"
      ],
      "text/plain": [
       "           For Token_CutOff=2 and Tag_CutOff=5\n",
       "F1                                    0.728440\n",
       "Recall                                0.727773\n",
       "Precision                             0.729109"
      ]
     },
     "metadata": {},
     "output_type": "display_data"
    }
   ],
   "source": [
    "df=pd.DataFrame([f1[0][3],recall[0][3],precision[0][3]],columns=[\"For Token_CutOff=2 and Tag_CutOff=5\"],index=[\"F1\",\"Recall\",\"Precision\"])\n",
    "display(df)"
   ]
  }
 ],
 "metadata": {
  "interpreter": {
   "hash": "31f2aee4e71d21fbe5cf8b01ff0e069b9275f58929596ceb00d14d90e3e16cd6"
  },
  "kernelspec": {
   "display_name": "Python 3",
   "language": "python",
   "name": "python3"
  },
  "language_info": {
   "codemirror_mode": {
    "name": "ipython",
    "version": 3
   },
   "file_extension": ".py",
   "mimetype": "text/x-python",
   "name": "python",
   "nbconvert_exporter": "python",
   "pygments_lexer": "ipython3",
   "version": "3.8.10"
  },
  "toc": {
   "base_numbering": 1,
   "nav_menu": {
    "height": "320px",
    "width": "220px"
   },
   "number_sections": true,
   "sideBar": true,
   "skip_h1_title": false,
   "title_cell": "Table of Contents",
   "title_sidebar": "Contents",
   "toc_cell": false,
   "toc_position": {
    "height": "calc(100% - 180px)",
    "left": "10px",
    "top": "150px",
    "width": "384px"
   },
   "toc_section_display": true,
   "toc_window_display": true
  }
 },
 "nbformat": 4,
 "nbformat_minor": 2
}
